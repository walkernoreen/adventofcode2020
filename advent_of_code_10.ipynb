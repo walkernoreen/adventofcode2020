{
 "cells": [
  {
   "cell_type": "markdown",
   "metadata": {},
   "source": [
    "### Day 10\n",
    "#### part A"
   ]
  },
  {
   "cell_type": "code",
   "execution_count": 1,
   "metadata": {},
   "outputs": [],
   "source": [
    "import numpy as np"
   ]
  },
  {
   "cell_type": "code",
   "execution_count": 2,
   "metadata": {},
   "outputs": [],
   "source": [
    "infile=\"10a_input.txt\""
   ]
  },
  {
   "cell_type": "code",
   "execution_count": 3,
   "metadata": {},
   "outputs": [
    {
     "data": {
      "text/plain": [
       "1.0"
      ]
     },
     "execution_count": 3,
     "metadata": {},
     "output_type": "execute_result"
    }
   ],
   "source": [
    "vals=np.loadtxt(infile)\n",
    "vals=np.sort(vals)\n",
    "vals[0]"
   ]
  },
  {
   "cell_type": "code",
   "execution_count": 13,
   "metadata": {},
   "outputs": [
    {
     "data": {
      "text/plain": [
       "array([1., 3., 3., 1., 1., 1., 3., 3., 3., 1., 1., 1., 1., 3., 3., 1., 1.,\n",
       "       1., 1., 3., 1., 1., 1., 3., 3., 1., 1., 1., 1., 3., 1., 1., 1., 1.,\n",
       "       3., 3., 1., 1., 1., 1., 3., 1., 1., 1., 1., 3., 1., 1., 1., 3., 1.,\n",
       "       1., 1., 1., 3., 1., 1., 3., 1., 1., 1., 1., 3., 1., 1., 1., 1., 3.,\n",
       "       1., 1., 1., 1., 3., 1., 1., 1., 1., 3., 1., 1., 1., 1., 3., 1., 1.,\n",
       "       1., 3., 1., 3., 3., 3., 1., 1., 3., 3., 1.])"
      ]
     },
     "execution_count": 13,
     "metadata": {},
     "output_type": "execute_result"
    }
   ],
   "source": [
    "diffs=np.diff(vals)\n",
    "diffs"
   ]
  },
  {
   "cell_type": "code",
   "execution_count": 5,
   "metadata": {},
   "outputs": [],
   "source": [
    "count1=np.count_nonzero(diffs==1)\n",
    "count3=np.count_nonzero(diffs==3)"
   ]
  },
  {
   "cell_type": "code",
   "execution_count": 6,
   "metadata": {},
   "outputs": [
    {
     "data": {
      "text/plain": [
       "2040"
      ]
     },
     "execution_count": 6,
     "metadata": {},
     "output_type": "execute_result"
    }
   ],
   "source": [
    "# final result\n",
    "(count1+1)*(count3+1)\n",
    "# first +1: vals[0]- chargingoutlet(0)\n",
    "# second +1: device adapter is diff=3"
   ]
  },
  {
   "cell_type": "markdown",
   "metadata": {},
   "source": [
    "#### part B"
   ]
  },
  {
   "cell_type": "code",
   "execution_count": 7,
   "metadata": {},
   "outputs": [],
   "source": [
    "# observation: there are no 2's in the diff vector. which seems to be a delibarate choice"
   ]
  },
  {
   "cell_type": "code",
   "execution_count": 8,
   "metadata": {},
   "outputs": [
    {
     "data": {
      "text/plain": [
       "array([1., 1., 3., 3., 1., 1., 1., 3., 3., 3., 1., 1., 1., 1., 3., 3., 1.,\n",
       "       1., 1., 1., 3., 1., 1., 1., 3., 3., 1., 1., 1., 1., 3., 1., 1., 1.,\n",
       "       1., 3., 3., 1., 1., 1., 1., 3., 1., 1., 1., 1., 3., 1., 1., 1., 3.,\n",
       "       1., 1., 1., 1., 3., 1., 1., 3., 1., 1., 1., 1., 3., 1., 1., 1., 1.,\n",
       "       3., 1., 1., 1., 1., 3., 1., 1., 1., 1., 3., 1., 1., 1., 1., 3., 1.,\n",
       "       1., 1., 3., 1., 3., 3., 3., 1., 1., 3., 3., 1.])"
      ]
     },
     "execution_count": 8,
     "metadata": {},
     "output_type": "execute_result"
    }
   ],
   "source": [
    "# include the first jolt\n",
    "diffsext=np.concatenate((np.array([1]),diffs))\n",
    "diffsext"
   ]
  },
  {
   "cell_type": "code",
   "execution_count": 14,
   "metadata": {},
   "outputs": [
    {
     "data": {
      "text/plain": [
       "array([2, 3, 4, 4, 3, 4, 4, 4, 4, 3, 4, 2, 4, 4, 4, 4, 4, 3, 1, 2, 1])"
      ]
     },
     "execution_count": 14,
     "metadata": {},
     "output_type": "execute_result"
    }
   ],
   "source": [
    "# find lengths of consecutive 1's stretches: here adapters can be skipped\n",
    "lengths=[]\n",
    "curlen=0\n",
    "for idx in range(len(diffsext)):\n",
    "    if diffsext[idx]==1:\n",
    "        curlen+=1\n",
    "    else:\n",
    "        if curlen!=0:\n",
    "            lengths.append(curlen)\n",
    "        curlen=0\n",
    "# append the last one\n",
    "if curlen!=0:\n",
    "    lengths.append(curlen)\n",
    "lengths=np.array(lengths)\n",
    "lengths    \n"
   ]
  },
  {
   "cell_type": "code",
   "execution_count": 15,
   "metadata": {},
   "outputs": [],
   "source": [
    "# possible re-arrangements for repeated 1's:\n",
    "# 1    -> 1 (1 option)\n",
    "# 11   -> 11,2 (2 options)\n",
    "# 111  -> 111,12,21,3 (4 options)\n",
    "# 1111 -> 1111,112,121,211,13,31,22 (7 options)"
   ]
  },
  {
   "cell_type": "code",
   "execution_count": 16,
   "metadata": {},
   "outputs": [
    {
     "name": "stdout",
     "output_type": "stream",
     "text": [
      "2 3 4 12\n"
     ]
    }
   ],
   "source": [
    "# longest stretch is 4 1's\n",
    "cnt1=np.count_nonzero(lengths==1)\n",
    "cnt2=np.count_nonzero(lengths==2)\n",
    "cnt3=np.count_nonzero(lengths==3)\n",
    "cnt4=np.count_nonzero(lengths==4)\n",
    "print(cnt1,cnt2,cnt3,cnt4)"
   ]
  },
  {
   "cell_type": "code",
   "execution_count": 18,
   "metadata": {},
   "outputs": [
    {
     "data": {
      "text/plain": [
       "28346956187648"
      ]
     },
     "execution_count": 18,
     "metadata": {},
     "output_type": "execute_result"
    }
   ],
   "source": [
    "# final result\n",
    "1**cnt1 * 2**cnt2 * 4**cnt3 * 7**cnt4"
   ]
  },
  {
   "cell_type": "code",
   "execution_count": null,
   "metadata": {},
   "outputs": [],
   "source": []
  }
 ],
 "metadata": {
  "kernelspec": {
   "display_name": "Python 3",
   "language": "python",
   "name": "python3"
  },
  "language_info": {
   "codemirror_mode": {
    "name": "ipython",
    "version": 3
   },
   "file_extension": ".py",
   "mimetype": "text/x-python",
   "name": "python",
   "nbconvert_exporter": "python",
   "pygments_lexer": "ipython3",
   "version": "3.7.5"
  }
 },
 "nbformat": 4,
 "nbformat_minor": 2
}
