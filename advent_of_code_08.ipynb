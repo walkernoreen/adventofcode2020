{
 "cells": [
  {
   "cell_type": "markdown",
   "metadata": {},
   "source": [
    "### Day 08\n",
    "#### part A"
   ]
  },
  {
   "cell_type": "code",
   "execution_count": 1,
   "metadata": {},
   "outputs": [],
   "source": [
    "infile=\"08a_input.txt\""
   ]
  },
  {
   "cell_type": "code",
   "execution_count": 2,
   "metadata": {},
   "outputs": [],
   "source": [
    "with open(infile) as f:\n",
    "    lines=f.readlines()"
   ]
  },
  {
   "cell_type": "code",
   "execution_count": 3,
   "metadata": {},
   "outputs": [],
   "source": [
    "lines=[line.replace(\"\\n\",\"\") for line in lines]"
   ]
  },
  {
   "cell_type": "code",
   "execution_count": 4,
   "metadata": {},
   "outputs": [],
   "source": [
    "# split into 2 lists: command and action number\n",
    "commands=[line.split(\" \")[0] for line in lines]\n",
    "nrs=[int(line.split(\" \")[1]) for line in lines]"
   ]
  },
  {
   "cell_type": "code",
   "execution_count": 5,
   "metadata": {},
   "outputs": [
    {
     "name": "stdout",
     "output_type": "stream",
     "text": [
      "['acc +40', 'jmp +187']\n",
      "['acc', 'jmp']\n",
      "[40, 187]\n"
     ]
    }
   ],
   "source": [
    "print(lines[:2])\n",
    "print(commands[:2])\n",
    "print(nrs[:2])"
   ]
  },
  {
   "cell_type": "code",
   "execution_count": 6,
   "metadata": {},
   "outputs": [],
   "source": [
    "def move_around(commands, nrs):\n",
    "    \"\"\"Plays the moving game. Breaks if a position was reached twice or if the line below the last line was reached. \n",
    "    Returns:\n",
    "    * accumulated sum (\"acc\")\n",
    "    * counter: list with [0,1] of length(commands). all entries with a '1' were visited\n",
    "    * success (boolean): True if the last line was reached, False if a position was reached twice\n",
    "    \"\"\"\n",
    "    # follow the actions. start at line 0\n",
    "    idx=0\n",
    "    \n",
    "    numlines=len(commands)\n",
    "\n",
    "    # accumulated points\n",
    "    accumulator=0\n",
    "\n",
    "    # keep track of how often a line was selected\n",
    "    counter=[0]*len(commands)\n",
    "    \n",
    "    success=False\n",
    "    \n",
    "    while True:\n",
    "        # should we break? if we attempt to read the line after the last line  -> break with success\n",
    "        if idx==numlines: \n",
    "            print(\"Breaking at last line + 1:\",idx)\n",
    "            success=True\n",
    "            break\n",
    "\n",
    "        # if idx is higher than (lastline+1): what shall we do -> break with success or fail?\n",
    "        if idx>numlines: \n",
    "            print(\"Breaking with a higher index:\",idx) # update: did not happen in practice\n",
    "            success=True\n",
    "            break\n",
    "            \n",
    "        # check if this line was already used\n",
    "        if counter[idx]==1:\n",
    "            break\n",
    "        else: \n",
    "            counter[idx]=1 # mark line as used\n",
    "            \n",
    "        \n",
    "        # execute command\n",
    "        cmd=commands[idx]\n",
    "\n",
    "        if cmd==\"acc\":\n",
    "            accumulator+=nrs[idx]\n",
    "            idx+=1     \n",
    "\n",
    "        elif cmd==\"nop\":\n",
    "            idx+=1\n",
    "\n",
    "        elif cmd==\"jmp\":\n",
    "            idx=idx+nrs[idx]\n",
    "            \n",
    "    return accumulator, counter, success\n"
   ]
  },
  {
   "cell_type": "code",
   "execution_count": 7,
   "metadata": {},
   "outputs": [
    {
     "name": "stdout",
     "output_type": "stream",
     "text": [
      "1137 False\n",
      "total steps taken: 182\n"
     ]
    }
   ],
   "source": [
    "accumulator, counter, success=move_around(commands,nrs)\n",
    "print(accumulator,success)\n",
    "print(\"total steps taken:\",sum(counter))"
   ]
  },
  {
   "cell_type": "code",
   "execution_count": 8,
   "metadata": {},
   "outputs": [
    {
     "data": {
      "text/plain": [
       "1137"
      ]
     },
     "execution_count": 8,
     "metadata": {},
     "output_type": "execute_result"
    }
   ],
   "source": [
    "# final result\n",
    "accumulator"
   ]
  },
  {
   "cell_type": "code",
   "execution_count": null,
   "metadata": {},
   "outputs": [],
   "source": []
  },
  {
   "cell_type": "markdown",
   "metadata": {},
   "source": [
    "#### excursion: generators"
   ]
  },
  {
   "cell_type": "code",
   "execution_count": 9,
   "metadata": {},
   "outputs": [
    {
     "name": "stdout",
     "output_type": "stream",
     "text": [
      "0\n",
      "1\n",
      "2\n",
      "3\n",
      "4\n",
      "5\n",
      "6\n",
      "7\n",
      "8\n",
      "9\n"
     ]
    }
   ],
   "source": [
    "def my_gen():\n",
    "    s=0\n",
    "    while s<10:\n",
    "        yield s\n",
    "        s+=1\n",
    "        \n",
    "for i in my_gen():\n",
    "    print(i)"
   ]
  },
  {
   "cell_type": "code",
   "execution_count": 10,
   "metadata": {},
   "outputs": [
    {
     "data": {
      "text/plain": [
       "2"
      ]
     },
     "execution_count": 10,
     "metadata": {},
     "output_type": "execute_result"
    }
   ],
   "source": [
    "gen=my_gen()\n",
    "next(gen)\n",
    "next(gen)\n",
    "next(gen)"
   ]
  },
  {
   "cell_type": "code",
   "execution_count": null,
   "metadata": {},
   "outputs": [],
   "source": []
  },
  {
   "cell_type": "markdown",
   "metadata": {},
   "source": [
    "#### part B"
   ]
  },
  {
   "cell_type": "code",
   "execution_count": 11,
   "metadata": {},
   "outputs": [],
   "source": [
    "import numpy as np"
   ]
  },
  {
   "cell_type": "code",
   "execution_count": 12,
   "metadata": {},
   "outputs": [
    {
     "name": "stdout",
     "output_type": "stream",
     "text": [
      "1137 False\n",
      "total steps taken: 182\n"
     ]
    }
   ],
   "source": [
    "# run the original loop\n",
    "accumulator, counter, success=move_around(commands,nrs)\n",
    "print(accumulator,success)\n",
    "print(\"total steps taken:\",sum(counter))"
   ]
  },
  {
   "cell_type": "code",
   "execution_count": 13,
   "metadata": {},
   "outputs": [],
   "source": [
    "# the action to be changed must be within the visted indices to have any effect\n",
    "visited_indices=list(np.nonzero(np.asarray(counter))[0])"
   ]
  },
  {
   "cell_type": "code",
   "execution_count": 14,
   "metadata": {},
   "outputs": [
    {
     "name": "stdout",
     "output_type": "stream",
     "text": [
      "Breaking at last line + 1: 596\n",
      "\n",
      "idxchange: 266\n",
      "accumulator (puzzle result): 1125 succes: True\n",
      "total steps taken: 157\n"
     ]
    }
   ],
   "source": [
    "# change one action at a time and test the loop\n",
    "\n",
    "for idxchange in visited_indices: # a bit faster than \"range(len(commands))\":\n",
    "    comchange=commands.copy()\n",
    "    if comchange[idxchange]==\"jmp\":\n",
    "        comchange[idxchange]=\"nop\"\n",
    "    elif comchange[idxchange]==\"nop\":\n",
    "        comchange[idxchange]=\"jmp\"\n",
    "    else:\n",
    "        continue\n",
    "    accumulator, counter, success=move_around(comchange,nrs)\n",
    "    if success:\n",
    "        print(\"\\nidxchange:\",idxchange)\n",
    "        print(\"accumulator (puzzle result):\", accumulator,\"succes:\",success)\n",
    "        print(\"total steps taken:\",sum(counter))\n"
   ]
  },
  {
   "cell_type": "code",
   "execution_count": null,
   "metadata": {},
   "outputs": [],
   "source": []
  }
 ],
 "metadata": {
  "kernelspec": {
   "display_name": "Python 3",
   "language": "python",
   "name": "python3"
  },
  "language_info": {
   "codemirror_mode": {
    "name": "ipython",
    "version": 3
   },
   "file_extension": ".py",
   "mimetype": "text/x-python",
   "name": "python",
   "nbconvert_exporter": "python",
   "pygments_lexer": "ipython3",
   "version": "3.7.5"
  }
 },
 "nbformat": 4,
 "nbformat_minor": 2
}
