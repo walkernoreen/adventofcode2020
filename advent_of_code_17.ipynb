{
 "cells": [
  {
   "cell_type": "markdown",
   "metadata": {},
   "source": [
    "### Day 17\n",
    "#### part A"
   ]
  },
  {
   "cell_type": "code",
   "execution_count": 28,
   "metadata": {},
   "outputs": [],
   "source": [
    "import numpy as np\n",
    "from scipy.ndimage import convolve\n",
    "import io"
   ]
  },
  {
   "cell_type": "code",
   "execution_count": 29,
   "metadata": {},
   "outputs": [],
   "source": [
    "infile=\"17a_input.txt\""
   ]
  },
  {
   "cell_type": "code",
   "execution_count": 32,
   "metadata": {},
   "outputs": [],
   "source": [
    "with open(infile) as f:\n",
    "    lines=f.readlines()\n",
    "    \n",
    "lines=[line.rstrip(\"\\n\") for line in lines]\n",
    "lines=[line.replace(\"#\",\"1\") for line in lines]\n",
    "lines=[line.replace(\".\",\"0\") for line in lines]\n",
    "lines=[list(line) for line in lines]"
   ]
  },
  {
   "cell_type": "code",
   "execution_count": 39,
   "metadata": {},
   "outputs": [
    {
     "data": {
      "text/plain": [
       "array([[1, 0, 1, 0, 0, 1, 0, 1],\n",
       "       [1, 0, 0, 0, 0, 0, 0, 0],\n",
       "       [1, 1, 1, 1, 0, 0, 1, 0],\n",
       "       [0, 1, 0, 1, 0, 1, 1, 0],\n",
       "       [0, 0, 1, 0, 0, 1, 0, 0],\n",
       "       [1, 1, 1, 0, 0, 1, 1, 0],\n",
       "       [0, 1, 0, 0, 1, 1, 0, 1],\n",
       "       [0, 0, 0, 0, 0, 1, 0, 0]])"
      ]
     },
     "execution_count": 39,
     "metadata": {},
     "output_type": "execute_result"
    }
   ],
   "source": [
    "start=np.array(lines).astype(np.int)\n",
    "rows,cols=start.shape\n",
    "start"
   ]
  },
  {
   "cell_type": "code",
   "execution_count": 40,
   "metadata": {},
   "outputs": [],
   "source": [
    "# 6 iterations: active region can maximally grow by 6 in all directions\n",
    "# create a larger matrix and embed the start region\n",
    "\n",
    "mat=np.zeros((30,30,30),dtype=np.int)\n",
    "mat[15,10:10+rows,10:10+cols]=start"
   ]
  },
  {
   "cell_type": "code",
   "execution_count": 44,
   "metadata": {},
   "outputs": [],
   "source": [
    "# compute the nr of active neighbors: sum of the 26 neighbors: convolution with 3x3x3 cube kernel with ones, except for center\n",
    "kernel=np.ones((3,3,3))\n",
    "kernel[1,1,1]=0"
   ]
  },
  {
   "cell_type": "code",
   "execution_count": 67,
   "metadata": {},
   "outputs": [],
   "source": [
    "def one_round(mat,kernel):\n",
    "    convd=convolve(mat,kernel)\n",
    "\n",
    "    # new states\n",
    "    new1=(mat==0)*(convd==3) # new 1: was 0 (inactive) and 3 active neighbors\n",
    "    stay1=(mat==1)*(np.logical_and(convd>=2,convd<=3)) # was 1 (active) and 2-3 active neighbors\n",
    "    new0=(mat==1)*(np.logical_or(convd<2,convd>3)) # new 0: was 1 (active) and !2,3 active neighbors\n",
    "    stay0=(mat==0)*(convd!=3) # was 0 (inactive) and !=3 active neighbors\n",
    "    \n",
    "    # every position should have a single assignment\n",
    "    checkmat=new1.astype(int)+stay1.astype(int)+new0.astype(int)+stay0.astype(int)\n",
    "    assert np.min(checkmat)==np.max(checkmat)==1\n",
    "\n",
    "    newmat=np.zeros_like(mat)\n",
    "    newmat+=new1.astype(int)+stay1.astype(int)\n",
    "    return newmat\n",
    "    "
   ]
  },
  {
   "cell_type": "code",
   "execution_count": 68,
   "metadata": {},
   "outputs": [],
   "source": [
    "# play 6 rounds\n",
    "newmat=mat.copy()"
   ]
  },
  {
   "cell_type": "code",
   "execution_count": 69,
   "metadata": {},
   "outputs": [],
   "source": [
    "for idx in range(6):\n",
    "    newmat=one_round(newmat,kernel)   "
   ]
  },
  {
   "cell_type": "code",
   "execution_count": 72,
   "metadata": {},
   "outputs": [
    {
     "data": {
      "text/plain": [
       "324"
      ]
     },
     "execution_count": 72,
     "metadata": {},
     "output_type": "execute_result"
    }
   ],
   "source": [
    "np.sum(newmat)"
   ]
  },
  {
   "cell_type": "markdown",
   "metadata": {},
   "source": [
    "#### Part B"
   ]
  },
  {
   "cell_type": "code",
   "execution_count": 74,
   "metadata": {},
   "outputs": [],
   "source": [
    "matB=np.zeros((30,30,30,30),dtype=np.int)\n",
    "matB[15,15,10:10+rows,10:10+cols]=start\n",
    "\n",
    "kernelB=np.ones((3,3,3,3))\n",
    "kernelB[1,1,1,1]=0"
   ]
  },
  {
   "cell_type": "code",
   "execution_count": 75,
   "metadata": {},
   "outputs": [],
   "source": [
    "newmatB=matB.copy()"
   ]
  },
  {
   "cell_type": "code",
   "execution_count": 76,
   "metadata": {},
   "outputs": [],
   "source": [
    "for idx in range(6):\n",
    "    newmatB=one_round(newmatB,kernelB)"
   ]
  },
  {
   "cell_type": "code",
   "execution_count": 77,
   "metadata": {},
   "outputs": [
    {
     "data": {
      "text/plain": [
       "1836"
      ]
     },
     "execution_count": 77,
     "metadata": {},
     "output_type": "execute_result"
    }
   ],
   "source": [
    "np.sum(newmatB)"
   ]
  },
  {
   "cell_type": "code",
   "execution_count": null,
   "metadata": {},
   "outputs": [],
   "source": []
  }
 ],
 "metadata": {
  "kernelspec": {
   "display_name": "Python 3",
   "language": "python",
   "name": "python3"
  },
  "language_info": {
   "codemirror_mode": {
    "name": "ipython",
    "version": 3
   },
   "file_extension": ".py",
   "mimetype": "text/x-python",
   "name": "python",
   "nbconvert_exporter": "python",
   "pygments_lexer": "ipython3",
   "version": "3.7.5"
  }
 },
 "nbformat": 4,
 "nbformat_minor": 2
}
