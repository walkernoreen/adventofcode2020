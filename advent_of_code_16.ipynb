{
 "cells": [
  {
   "cell_type": "markdown",
   "metadata": {},
   "source": [
    "### Day 16\n",
    "#### part A"
   ]
  },
  {
   "cell_type": "code",
   "execution_count": 18,
   "metadata": {},
   "outputs": [],
   "source": [
    "import numpy as np\n",
    "import pandas as pd\n",
    "import re"
   ]
  },
  {
   "cell_type": "code",
   "execution_count": 3,
   "metadata": {},
   "outputs": [],
   "source": [
    "infile=\"16a_input.txt\""
   ]
  },
  {
   "cell_type": "code",
   "execution_count": 10,
   "metadata": {},
   "outputs": [],
   "source": [
    "with open(infile) as f:\n",
    "    lines=f.readlines()"
   ]
  },
  {
   "cell_type": "code",
   "execution_count": 44,
   "metadata": {},
   "outputs": [],
   "source": [
    "phase=0 # 0: conditions, 1: mynumber, 2:othernumbers\n",
    "\n",
    "conditions=dict()\n",
    "mynumbers=[]\n",
    "othernumbers=[]\n",
    "\n",
    "for idx,line in enumerate(lines):\n",
    "    if phase==0: # conditions\n",
    "        if line==\"\\n\":\n",
    "            phase=1\n",
    "            continue\n",
    "        textfield=line.split(\":\")[0]\n",
    "        nrs=[int(i) for i in re.findall(r\"\\d+\",line)] # 4 nrs\n",
    "        cond1=nrs[:2]\n",
    "        cond2=nrs[2:]\n",
    "        conditions[textfield]=[cond1,cond2]\n",
    "        \n",
    "    if phase==1: # my number\n",
    "        if re.search(r\"\\d+\",line) is not None: # has numbers\n",
    "            line=line.replace(\"\\n\",\"\")\n",
    "            mynumbers=[int(l) for l in line.split(\",\")]\n",
    "        if line==\"\\n\":\n",
    "            phase=2\n",
    "            continue\n",
    "\n",
    "    if phase==2: # other numbers\n",
    "        if re.search(r\"\\d+\",line) is not None: # has numbers\n",
    "            line=line.replace(\"\\n\",\"\")\n",
    "            nrs=[int(l) for l in line.split(\",\")]\n",
    "            othernumbers.append(nrs)"
   ]
  },
  {
   "cell_type": "code",
   "execution_count": 52,
   "metadata": {},
   "outputs": [],
   "source": [
    "def test_conditions(conditions,nrs):\n",
    "    # returns the sum of the invalid numbers in one ticket\n",
    "    sum_invalid=0\n",
    "    for nr in nrs:\n",
    "        nr_is_valid=False\n",
    "        for key in conditions.keys():\n",
    "            conds=conditions[key]\n",
    "            for cond in conds: # conds: [[100,200],[250,400]] etc\n",
    "                if nr>=cond[0] and nr<=cond[1]:\n",
    "                    nr_is_valid=True\n",
    "        if nr_is_valid==False:\n",
    "            sum_invalid+=nr\n",
    "    return sum_invalid"
   ]
  },
  {
   "cell_type": "code",
   "execution_count": 55,
   "metadata": {},
   "outputs": [],
   "source": [
    "# test all other numbers\n",
    "sum_invalid=0\n",
    "for othernumber in othernumbers:\n",
    "    sum_invalid+=test_conditions(conditions,othernumber)"
   ]
  },
  {
   "cell_type": "code",
   "execution_count": 56,
   "metadata": {},
   "outputs": [
    {
     "data": {
      "text/plain": [
       "23054"
      ]
     },
     "execution_count": 56,
     "metadata": {},
     "output_type": "execute_result"
    }
   ],
   "source": [
    "sum_invalid"
   ]
  },
  {
   "cell_type": "code",
   "execution_count": null,
   "metadata": {},
   "outputs": [],
   "source": []
  },
  {
   "cell_type": "markdown",
   "metadata": {},
   "source": [
    "#### part B"
   ]
  },
  {
   "cell_type": "code",
   "execution_count": 58,
   "metadata": {},
   "outputs": [],
   "source": [
    "# remove the invalid tickets\n",
    "cleanothers=[]\n",
    "for othernumber in othernumbers:\n",
    "    if test_conditions(conditions,othernumber)==0:\n",
    "        cleanothers.append(othernumber)"
   ]
  },
  {
   "cell_type": "code",
   "execution_count": 63,
   "metadata": {},
   "outputs": [
    {
     "data": {
      "text/html": [
       "<div>\n",
       "<style scoped>\n",
       "    .dataframe tbody tr th:only-of-type {\n",
       "        vertical-align: middle;\n",
       "    }\n",
       "\n",
       "    .dataframe tbody tr th {\n",
       "        vertical-align: top;\n",
       "    }\n",
       "\n",
       "    .dataframe thead th {\n",
       "        text-align: right;\n",
       "    }\n",
       "</style>\n",
       "<table border=\"1\" class=\"dataframe\">\n",
       "  <thead>\n",
       "    <tr style=\"text-align: right;\">\n",
       "      <th></th>\n",
       "      <th>0</th>\n",
       "      <th>1</th>\n",
       "      <th>2</th>\n",
       "      <th>3</th>\n",
       "      <th>4</th>\n",
       "      <th>5</th>\n",
       "      <th>6</th>\n",
       "      <th>7</th>\n",
       "      <th>8</th>\n",
       "      <th>9</th>\n",
       "      <th>10</th>\n",
       "      <th>11</th>\n",
       "      <th>12</th>\n",
       "      <th>13</th>\n",
       "      <th>14</th>\n",
       "      <th>15</th>\n",
       "      <th>16</th>\n",
       "      <th>17</th>\n",
       "      <th>18</th>\n",
       "      <th>19</th>\n",
       "    </tr>\n",
       "  </thead>\n",
       "  <tbody>\n",
       "    <tr>\n",
       "      <th>0</th>\n",
       "      <td>153</td>\n",
       "      <td>109</td>\n",
       "      <td>923</td>\n",
       "      <td>689</td>\n",
       "      <td>426</td>\n",
       "      <td>793</td>\n",
       "      <td>483</td>\n",
       "      <td>628</td>\n",
       "      <td>843</td>\n",
       "      <td>774</td>\n",
       "      <td>785</td>\n",
       "      <td>841</td>\n",
       "      <td>63</td>\n",
       "      <td>168</td>\n",
       "      <td>314</td>\n",
       "      <td>725</td>\n",
       "      <td>489</td>\n",
       "      <td>339</td>\n",
       "      <td>231</td>\n",
       "      <td>914</td>\n",
       "    </tr>\n",
       "    <tr>\n",
       "      <th>1</th>\n",
       "      <td>98</td>\n",
       "      <td>718</td>\n",
       "      <td>599</td>\n",
       "      <td>348</td>\n",
       "      <td>225</td>\n",
       "      <td>261</td>\n",
       "      <td>310</td>\n",
       "      <td>490</td>\n",
       "      <td>773</td>\n",
       "      <td>867</td>\n",
       "      <td>659</td>\n",
       "      <td>874</td>\n",
       "      <td>286</td>\n",
       "      <td>290</td>\n",
       "      <td>408</td>\n",
       "      <td>481</td>\n",
       "      <td>780</td>\n",
       "      <td>240</td>\n",
       "      <td>309</td>\n",
       "      <td>391</td>\n",
       "    </tr>\n",
       "    <tr>\n",
       "      <th>2</th>\n",
       "      <td>523</td>\n",
       "      <td>86</td>\n",
       "      <td>241</td>\n",
       "      <td>489</td>\n",
       "      <td>735</td>\n",
       "      <td>854</td>\n",
       "      <td>797</td>\n",
       "      <td>654</td>\n",
       "      <td>380</td>\n",
       "      <td>846</td>\n",
       "      <td>522</td>\n",
       "      <td>432</td>\n",
       "      <td>87</td>\n",
       "      <td>911</td>\n",
       "      <td>849</td>\n",
       "      <td>88</td>\n",
       "      <td>219</td>\n",
       "      <td>757</td>\n",
       "      <td>564</td>\n",
       "      <td>901</td>\n",
       "    </tr>\n",
       "    <tr>\n",
       "      <th>3</th>\n",
       "      <td>202</td>\n",
       "      <td>581</td>\n",
       "      <td>555</td>\n",
       "      <td>337</td>\n",
       "      <td>185</td>\n",
       "      <td>699</td>\n",
       "      <td>857</td>\n",
       "      <td>222</td>\n",
       "      <td>869</td>\n",
       "      <td>826</td>\n",
       "      <td>873</td>\n",
       "      <td>445</td>\n",
       "      <td>273</td>\n",
       "      <td>440</td>\n",
       "      <td>465</td>\n",
       "      <td>938</td>\n",
       "      <td>766</td>\n",
       "      <td>482</td>\n",
       "      <td>901</td>\n",
       "      <td>99</td>\n",
       "    </tr>\n",
       "    <tr>\n",
       "      <th>4</th>\n",
       "      <td>793</td>\n",
       "      <td>468</td>\n",
       "      <td>773</td>\n",
       "      <td>432</td>\n",
       "      <td>300</td>\n",
       "      <td>82</td>\n",
       "      <td>853</td>\n",
       "      <td>557</td>\n",
       "      <td>408</td>\n",
       "      <td>75</td>\n",
       "      <td>220</td>\n",
       "      <td>468</td>\n",
       "      <td>610</td>\n",
       "      <td>748</td>\n",
       "      <td>51</td>\n",
       "      <td>415</td>\n",
       "      <td>775</td>\n",
       "      <td>154</td>\n",
       "      <td>784</td>\n",
       "      <td>189</td>\n",
       "    </tr>\n",
       "  </tbody>\n",
       "</table>\n",
       "</div>"
      ],
      "text/plain": [
       "     0    1    2    3    4    5    6    7    8    9   10   11   12   13   14  \\\n",
       "0  153  109  923  689  426  793  483  628  843  774  785  841   63  168  314   \n",
       "1   98  718  599  348  225  261  310  490  773  867  659  874  286  290  408   \n",
       "2  523   86  241  489  735  854  797  654  380  846  522  432   87  911  849   \n",
       "3  202  581  555  337  185  699  857  222  869  826  873  445  273  440  465   \n",
       "4  793  468  773  432  300   82  853  557  408   75  220  468  610  748   51   \n",
       "\n",
       "    15   16   17   18   19  \n",
       "0  725  489  339  231  914  \n",
       "1  481  780  240  309  391  \n",
       "2   88  219  757  564  901  \n",
       "3  938  766  482  901   99  \n",
       "4  415  775  154  784  189  "
      ]
     },
     "execution_count": 63,
     "metadata": {},
     "output_type": "execute_result"
    }
   ],
   "source": [
    "df=pd.DataFrame(cleanothers)\n",
    "df.head()"
   ]
  },
  {
   "cell_type": "code",
   "execution_count": 64,
   "metadata": {},
   "outputs": [],
   "source": [
    "def test_one_condition_list(conds,nr):\n",
    "    # conds: [[100,200],[250,400]] etc\n",
    "    nr_is_valid=False\n",
    "    for cond in conds: \n",
    "        if nr>=cond[0] and nr<=cond[1]:\n",
    "            nr_is_valid=True\n",
    "    return nr_is_valid\n"
   ]
  },
  {
   "cell_type": "code",
   "execution_count": 71,
   "metadata": {},
   "outputs": [
    {
     "data": {
      "text/plain": [
       "dict_keys(['departure location', 'departure station', 'departure platform', 'departure track', 'departure date', 'departure time', 'arrival location', 'arrival station', 'arrival platform', 'arrival track', 'class', 'duration', 'price', 'route', 'row', 'seat', 'train', 'type', 'wagon', 'zone'])"
      ]
     },
     "execution_count": 71,
     "metadata": {},
     "output_type": "execute_result"
    }
   ],
   "source": [
    "conditions.keys()"
   ]
  },
  {
   "cell_type": "code",
   "execution_count": 78,
   "metadata": {},
   "outputs": [
    {
     "data": {
      "text/plain": [
       "190"
      ]
     },
     "execution_count": 78,
     "metadata": {},
     "output_type": "execute_result"
    }
   ],
   "source": [
    "totalcount=df.shape[0]\n",
    "totalcount"
   ]
  },
  {
   "cell_type": "markdown",
   "metadata": {},
   "source": [
    "how to find the columns where all tickets fullfill the condition - an example"
   ]
  },
  {
   "cell_type": "code",
   "execution_count": 81,
   "metadata": {},
   "outputs": [
    {
     "data": {
      "text/html": [
       "<div>\n",
       "<style scoped>\n",
       "    .dataframe tbody tr th:only-of-type {\n",
       "        vertical-align: middle;\n",
       "    }\n",
       "\n",
       "    .dataframe tbody tr th {\n",
       "        vertical-align: top;\n",
       "    }\n",
       "\n",
       "    .dataframe thead th {\n",
       "        text-align: right;\n",
       "    }\n",
       "</style>\n",
       "<table border=\"1\" class=\"dataframe\">\n",
       "  <thead>\n",
       "    <tr style=\"text-align: right;\">\n",
       "      <th></th>\n",
       "      <th>0</th>\n",
       "      <th>1</th>\n",
       "      <th>2</th>\n",
       "      <th>3</th>\n",
       "      <th>4</th>\n",
       "      <th>5</th>\n",
       "      <th>6</th>\n",
       "      <th>7</th>\n",
       "      <th>8</th>\n",
       "      <th>9</th>\n",
       "      <th>10</th>\n",
       "      <th>11</th>\n",
       "      <th>12</th>\n",
       "      <th>13</th>\n",
       "      <th>14</th>\n",
       "      <th>15</th>\n",
       "      <th>16</th>\n",
       "      <th>17</th>\n",
       "      <th>18</th>\n",
       "      <th>19</th>\n",
       "    </tr>\n",
       "  </thead>\n",
       "  <tbody>\n",
       "    <tr>\n",
       "      <th>0</th>\n",
       "      <td>True</td>\n",
       "      <td>True</td>\n",
       "      <td>True</td>\n",
       "      <td>True</td>\n",
       "      <td>True</td>\n",
       "      <td>True</td>\n",
       "      <td>True</td>\n",
       "      <td>True</td>\n",
       "      <td>True</td>\n",
       "      <td>True</td>\n",
       "      <td>True</td>\n",
       "      <td>True</td>\n",
       "      <td>True</td>\n",
       "      <td>True</td>\n",
       "      <td>True</td>\n",
       "      <td>True</td>\n",
       "      <td>True</td>\n",
       "      <td>True</td>\n",
       "      <td>True</td>\n",
       "      <td>True</td>\n",
       "    </tr>\n",
       "    <tr>\n",
       "      <th>1</th>\n",
       "      <td>True</td>\n",
       "      <td>True</td>\n",
       "      <td>True</td>\n",
       "      <td>True</td>\n",
       "      <td>True</td>\n",
       "      <td>True</td>\n",
       "      <td>True</td>\n",
       "      <td>True</td>\n",
       "      <td>True</td>\n",
       "      <td>True</td>\n",
       "      <td>True</td>\n",
       "      <td>True</td>\n",
       "      <td>True</td>\n",
       "      <td>True</td>\n",
       "      <td>True</td>\n",
       "      <td>True</td>\n",
       "      <td>True</td>\n",
       "      <td>True</td>\n",
       "      <td>True</td>\n",
       "      <td>True</td>\n",
       "    </tr>\n",
       "    <tr>\n",
       "      <th>2</th>\n",
       "      <td>True</td>\n",
       "      <td>True</td>\n",
       "      <td>True</td>\n",
       "      <td>True</td>\n",
       "      <td>True</td>\n",
       "      <td>True</td>\n",
       "      <td>True</td>\n",
       "      <td>True</td>\n",
       "      <td>True</td>\n",
       "      <td>True</td>\n",
       "      <td>True</td>\n",
       "      <td>True</td>\n",
       "      <td>True</td>\n",
       "      <td>True</td>\n",
       "      <td>True</td>\n",
       "      <td>True</td>\n",
       "      <td>True</td>\n",
       "      <td>True</td>\n",
       "      <td>True</td>\n",
       "      <td>True</td>\n",
       "    </tr>\n",
       "    <tr>\n",
       "      <th>3</th>\n",
       "      <td>True</td>\n",
       "      <td>True</td>\n",
       "      <td>True</td>\n",
       "      <td>True</td>\n",
       "      <td>True</td>\n",
       "      <td>True</td>\n",
       "      <td>True</td>\n",
       "      <td>True</td>\n",
       "      <td>True</td>\n",
       "      <td>True</td>\n",
       "      <td>True</td>\n",
       "      <td>True</td>\n",
       "      <td>True</td>\n",
       "      <td>True</td>\n",
       "      <td>True</td>\n",
       "      <td>True</td>\n",
       "      <td>True</td>\n",
       "      <td>True</td>\n",
       "      <td>True</td>\n",
       "      <td>True</td>\n",
       "    </tr>\n",
       "    <tr>\n",
       "      <th>4</th>\n",
       "      <td>True</td>\n",
       "      <td>True</td>\n",
       "      <td>True</td>\n",
       "      <td>True</td>\n",
       "      <td>True</td>\n",
       "      <td>True</td>\n",
       "      <td>True</td>\n",
       "      <td>True</td>\n",
       "      <td>True</td>\n",
       "      <td>True</td>\n",
       "      <td>True</td>\n",
       "      <td>True</td>\n",
       "      <td>True</td>\n",
       "      <td>True</td>\n",
       "      <td>True</td>\n",
       "      <td>True</td>\n",
       "      <td>True</td>\n",
       "      <td>True</td>\n",
       "      <td>True</td>\n",
       "      <td>True</td>\n",
       "    </tr>\n",
       "  </tbody>\n",
       "</table>\n",
       "</div>"
      ],
      "text/plain": [
       "      0     1     2     3     4     5     6     7     8     9    10    11  \\\n",
       "0  True  True  True  True  True  True  True  True  True  True  True  True   \n",
       "1  True  True  True  True  True  True  True  True  True  True  True  True   \n",
       "2  True  True  True  True  True  True  True  True  True  True  True  True   \n",
       "3  True  True  True  True  True  True  True  True  True  True  True  True   \n",
       "4  True  True  True  True  True  True  True  True  True  True  True  True   \n",
       "\n",
       "     12    13    14    15    16    17    18    19  \n",
       "0  True  True  True  True  True  True  True  True  \n",
       "1  True  True  True  True  True  True  True  True  \n",
       "2  True  True  True  True  True  True  True  True  \n",
       "3  True  True  True  True  True  True  True  True  \n",
       "4  True  True  True  True  True  True  True  True  "
      ]
     },
     "execution_count": 81,
     "metadata": {},
     "output_type": "execute_result"
    }
   ],
   "source": [
    "out=df.applymap(lambda x: test_one_condition_list(conditions[\"departure location\"],x))\n",
    "out.head()"
   ]
  },
  {
   "cell_type": "code",
   "execution_count": 88,
   "metadata": {},
   "outputs": [
    {
     "data": {
      "text/plain": [
       "array([ 2,  5,  6,  7,  8,  9, 10, 11, 14, 18, 19], dtype=int64)"
      ]
     },
     "execution_count": 88,
     "metadata": {},
     "output_type": "execute_result"
    }
   ],
   "source": [
    "# column idx with all True\n",
    "np.where(out.all())[0]"
   ]
  },
  {
   "cell_type": "markdown",
   "metadata": {},
   "source": [
    "full run"
   ]
  },
  {
   "cell_type": "code",
   "execution_count": 97,
   "metadata": {},
   "outputs": [
    {
     "name": "stdout",
     "output_type": "stream",
     "text": [
      "departure location [ 2  5  6  7  8  9 10 11 14 18 19]\n",
      "departure station [ 2  3  4  5  6  7  8  9 10 11 12 14 15 17 18 19]\n",
      "departure platform [ 2  3  5  6  7  8  9 10 11 14 15 18 19]\n",
      "departure track [ 2  3  5  6  7  8  9 10 11 14 18 19]\n",
      "departure date [ 2  3  5  6  7  8  9 10 11 14 15 17 18 19]\n",
      "departure time [ 2  3  4  5  6  7  8  9 10 11 14 15 17 18 19]\n",
      "arrival location [ 2  5  6  7  9 10 11 18 19]\n",
      "arrival station [ 0  1  2  3  4  5  6  7  8  9 10 11 12 13 14 15 16 17 18 19]\n",
      "arrival platform [ 2  5 10]\n",
      "arrival track [ 2  5  9 10 18]\n",
      "class [ 0  2  3  4  5  6  7  8  9 10 11 12 13 14 15 17 18 19]\n",
      "duration [ 2  5 10 18]\n",
      "price [ 2  5  7  9 10 11 18 19]\n",
      "route [ 0  1  2  3  4  5  6  7  8  9 10 11 12 13 14 15 17 18 19]\n",
      "row [ 5 10]\n",
      "seat [ 2  5  7  9 10 18]\n",
      "train [ 2  5  6  7  8  9 10 11 18 19]\n",
      "type [10]\n",
      "wagon [ 0  2  3  4  5  6  7  8  9 10 11 12 14 15 17 18 19]\n",
      "zone [ 2  5  7  9 10 11 18]\n"
     ]
    }
   ],
   "source": [
    "keys=list(conditions.keys())\n",
    "candidates=[]\n",
    "lengths=np.zeros(len(keys))\n",
    "for idx,key in enumerate(conditions.keys()):\n",
    "    conds=conditions[key]\n",
    "    out=df.applymap(lambda x: test_one_condition_list(conditions[key],x))\n",
    "    valids=np.where(out.all())[0]\n",
    "    candidates.append(valids)\n",
    "    lengths[idx]=len(valids)\n",
    "    print(key,valids)"
   ]
  },
  {
   "cell_type": "code",
   "execution_count": 108,
   "metadata": {},
   "outputs": [
    {
     "data": {
      "text/plain": [
       "array([ 1.,  2.,  3.,  4.,  5.,  6.,  7.,  8.,  9., 10., 11., 12., 13.,\n",
       "       14., 15., 16., 17., 18., 19., 20.])"
      ]
     },
     "execution_count": 108,
     "metadata": {},
     "output_type": "execute_result"
    }
   ],
   "source": [
    "order=np.argsort(lengths)\n",
    "lengthssorted=np.sort(lengths)\n",
    "lengthssorted"
   ]
  },
  {
   "cell_type": "code",
   "execution_count": 106,
   "metadata": {},
   "outputs": [
    {
     "data": {
      "text/plain": [
       "['type',\n",
       " 'row',\n",
       " 'arrival platform',\n",
       " 'duration',\n",
       " 'arrival track',\n",
       " 'seat',\n",
       " 'zone',\n",
       " 'price',\n",
       " 'arrival location',\n",
       " 'train',\n",
       " 'departure location',\n",
       " 'departure track',\n",
       " 'departure platform',\n",
       " 'departure date',\n",
       " 'departure time',\n",
       " 'departure station',\n",
       " 'wagon',\n",
       " 'class',\n",
       " 'route',\n",
       " 'arrival station']"
      ]
     },
     "execution_count": 106,
     "metadata": {},
     "output_type": "execute_result"
    }
   ],
   "source": [
    "keyssorted=[keys[order[idx]] for idx in range(len(keys))]\n",
    "keyssorted"
   ]
  },
  {
   "cell_type": "code",
   "execution_count": 125,
   "metadata": {},
   "outputs": [
    {
     "name": "stdout",
     "output_type": "stream",
     "text": [
      "0 [10]\n",
      "1 [ 5 10]\n",
      "2 [ 2  5 10]\n",
      "3 [ 2  5 10 18]\n",
      "4 [ 2  5  9 10 18]\n",
      "5 [ 2  5  7  9 10 18]\n",
      "6 [ 2  5  7  9 10 11 18]\n",
      "7 [ 2  5  7  9 10 11 18 19]\n",
      "8 [ 2  5  6  7  9 10 11 18 19]\n",
      "9 [ 2  5  6  7  8  9 10 11 18 19]\n",
      "10 [ 2  5  6  7  8  9 10 11 14 18 19]\n",
      "11 [ 2  3  5  6  7  8  9 10 11 14 18 19]\n",
      "12 [ 2  3  5  6  7  8  9 10 11 14 15 18 19]\n",
      "13 [ 2  3  5  6  7  8  9 10 11 14 15 17 18 19]\n",
      "14 [ 2  3  4  5  6  7  8  9 10 11 14 15 17 18 19]\n",
      "15 [ 2  3  4  5  6  7  8  9 10 11 12 14 15 17 18 19]\n",
      "16 [ 0  2  3  4  5  6  7  8  9 10 11 12 14 15 17 18 19]\n",
      "17 [ 0  2  3  4  5  6  7  8  9 10 11 12 13 14 15 17 18 19]\n",
      "18 [ 0  1  2  3  4  5  6  7  8  9 10 11 12 13 14 15 17 18 19]\n",
      "19 [ 0  1  2  3  4  5  6  7  8  9 10 11 12 13 14 15 16 17 18 19]\n"
     ]
    }
   ],
   "source": [
    "candidatessorted=[candidates[order[idx]] for idx in range(len(candidates))]\n",
    "for idx in range(len(candidatessorted)):\n",
    "    print( idx,candidatessorted[idx])"
   ]
  },
  {
   "cell_type": "code",
   "execution_count": null,
   "metadata": {},
   "outputs": [],
   "source": []
  },
  {
   "cell_type": "code",
   "execution_count": 134,
   "metadata": {},
   "outputs": [
    {
     "data": {
      "text/plain": [
       "[10, 5, 2, 18, 9, 7, 11, 19, 6, 8, 14, 3, 15, 17, 4, 12, 0, 13, 1, 16]"
      ]
     },
     "execution_count": 134,
     "metadata": {},
     "output_type": "execute_result"
    }
   ],
   "source": [
    "# idxs on ticket according to keyssorted\n",
    "ticketidxs=[]\n",
    "\n",
    "usedidxs=[]\n",
    "\n",
    "for idx in range(len(lengths)):\n",
    "    cand=candidatessorted[idx]\n",
    "    if idx>0:\n",
    "        cand=cand[np.isin(cand,usedidxs)==False] # exclude used indices\n",
    "    ticketidxs.append(cand[0])\n",
    "    usedidxs.append(cand[0])\n",
    "\n",
    "ticketidxs"
   ]
  },
  {
   "cell_type": "code",
   "execution_count": 135,
   "metadata": {},
   "outputs": [
    {
     "name": "stdout",
     "output_type": "stream",
     "text": [
      "type 10\n",
      "row 5\n",
      "arrival platform 2\n",
      "duration 18\n",
      "arrival track 9\n",
      "seat 7\n",
      "zone 11\n",
      "price 19\n",
      "arrival location 6\n",
      "train 8\n",
      "departure location 14\n",
      "departure track 3\n",
      "departure platform 15\n",
      "departure date 17\n",
      "departure time 4\n",
      "departure station 12\n",
      "wagon 0\n",
      "class 13\n",
      "route 1\n",
      "arrival station 16\n"
     ]
    }
   ],
   "source": [
    "for k,t in zip(keyssorted,ticketidxs):\n",
    "    print(k,t)"
   ]
  },
  {
   "cell_type": "code",
   "execution_count": 143,
   "metadata": {},
   "outputs": [],
   "source": [
    "# keys & corresponding ticket fields that start with departure\n",
    "specialidxs=[idx for idx in range(len(keyssorted)) if \"departure\" in keyssorted[idx]]\n",
    "specialkeys=[]\n",
    "specialtickets=[]\n",
    "for idx in specialidxs:\n",
    "    specialkeys.append(keyssorted[idx])\n",
    "    specialtickets.append(ticketidxs[idx])\n",
    "    "
   ]
  },
  {
   "cell_type": "code",
   "execution_count": 151,
   "metadata": {},
   "outputs": [
    {
     "data": {
      "text/plain": [
       "[14, 3, 15, 17, 4, 12]"
      ]
     },
     "execution_count": 151,
     "metadata": {},
     "output_type": "execute_result"
    }
   ],
   "source": [
    "specialtickets"
   ]
  },
  {
   "cell_type": "code",
   "execution_count": 152,
   "metadata": {},
   "outputs": [
    {
     "data": {
      "text/plain": [
       "['departure location',\n",
       " 'departure track',\n",
       " 'departure platform',\n",
       " 'departure date',\n",
       " 'departure time',\n",
       " 'departure station']"
      ]
     },
     "execution_count": 152,
     "metadata": {},
     "output_type": "execute_result"
    }
   ],
   "source": [
    "specialkeys"
   ]
  },
  {
   "cell_type": "code",
   "execution_count": 147,
   "metadata": {},
   "outputs": [],
   "source": [
    "mysubset=np.array(mynumbers)[specialtickets]"
   ]
  },
  {
   "cell_type": "code",
   "execution_count": 149,
   "metadata": {},
   "outputs": [
    {
     "data": {
      "text/plain": [
       "['departure location',\n",
       " 'departure track',\n",
       " 'departure platform',\n",
       " 'departure date',\n",
       " 'departure time',\n",
       " 'departure station']"
      ]
     },
     "execution_count": 149,
     "metadata": {},
     "output_type": "execute_result"
    }
   ],
   "source": [
    "specialkeys"
   ]
  },
  {
   "cell_type": "code",
   "execution_count": 153,
   "metadata": {},
   "outputs": [
    {
     "data": {
      "text/plain": [
       "array([199, 179, 223, 181, 157, 227])"
      ]
     },
     "execution_count": 153,
     "metadata": {},
     "output_type": "execute_result"
    }
   ],
   "source": [
    "mysubset"
   ]
  },
  {
   "cell_type": "code",
   "execution_count": 159,
   "metadata": {},
   "outputs": [
    {
     "data": {
      "text/plain": [
       "51240700105297.0"
      ]
     },
     "execution_count": 159,
     "metadata": {},
     "output_type": "execute_result"
    }
   ],
   "source": [
    "np.prod(mysubset.astype(np.float))"
   ]
  },
  {
   "cell_type": "code",
   "execution_count": 154,
   "metadata": {},
   "outputs": [
    {
     "data": {
      "text/plain": [
       "51240700105297"
      ]
     },
     "execution_count": 154,
     "metadata": {},
     "output_type": "execute_result"
    }
   ],
   "source": [
    "199*179*223*181*157*227"
   ]
  }
 ],
 "metadata": {
  "kernelspec": {
   "display_name": "Python 3",
   "language": "python",
   "name": "python3"
  },
  "language_info": {
   "codemirror_mode": {
    "name": "ipython",
    "version": 3
   },
   "file_extension": ".py",
   "mimetype": "text/x-python",
   "name": "python",
   "nbconvert_exporter": "python",
   "pygments_lexer": "ipython3",
   "version": "3.7.5"
  }
 },
 "nbformat": 4,
 "nbformat_minor": 2
}
