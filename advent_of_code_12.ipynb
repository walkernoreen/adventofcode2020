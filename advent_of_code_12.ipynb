{
 "cells": [
  {
   "cell_type": "markdown",
   "metadata": {},
   "source": [
    "### Day 12\n",
    "#### part A"
   ]
  },
  {
   "cell_type": "code",
   "execution_count": 1,
   "metadata": {},
   "outputs": [],
   "source": [
    "import numpy as np"
   ]
  },
  {
   "cell_type": "code",
   "execution_count": 2,
   "metadata": {},
   "outputs": [],
   "source": [
    "infile=\"12a_input.txt\""
   ]
  },
  {
   "cell_type": "code",
   "execution_count": 3,
   "metadata": {},
   "outputs": [],
   "source": [
    "with open(infile) as f:\n",
    "    lines=f.readlines()"
   ]
  },
  {
   "cell_type": "code",
   "execution_count": 4,
   "metadata": {},
   "outputs": [
    {
     "name": "stdout",
     "output_type": "stream",
     "text": [
      "['E', 'F', 'F', 'N', 'E', 'R', 'F', 'L', 'N', 'W']\n",
      "[2, 24, 60, 3, 1, 180, 14, 90, 4, 3]\n"
     ]
    }
   ],
   "source": [
    "lines=[line.replace(\"\\n\",\"\") for line in lines]\n",
    "letters=[line[0] for line in lines]\n",
    "numbers=[int(line[1:]) for line in lines]\n",
    "\n",
    "print(letters[:10])\n",
    "print(numbers[:10])"
   ]
  },
  {
   "cell_type": "code",
   "execution_count": 5,
   "metadata": {},
   "outputs": [
    {
     "name": "stdout",
     "output_type": "stream",
     "text": [
      "posN: -634 posE: 1423 angle: 2.0\n"
     ]
    }
   ],
   "source": [
    "# start position of ship\n",
    "posN=0\n",
    "posE=0\n",
    "angle=0 # 0=east, 1=north, 2=west, 3=south\n",
    "\n",
    "# follow every order\n",
    "for letter,number in zip(letters,numbers):\n",
    "    # move NSWE\n",
    "    if letter==\"N\":\n",
    "        posN+=number\n",
    "    if letter==\"S\":\n",
    "        posN-=number\n",
    "    if letter==\"E\":\n",
    "        posE+=number\n",
    "    if letter==\"W\":\n",
    "        posE-=number\n",
    "\n",
    "    # change direction\n",
    "    if letter==\"L\":\n",
    "        angle+=number/90\n",
    "        angle=angle%4\n",
    "    if letter==\"R\":\n",
    "        angle-=number/90\n",
    "        angle=angle%4\n",
    "\n",
    "    # move forward\n",
    "    if letter==\"F\":\n",
    "        if angle==0: posE+=number\n",
    "        elif angle==1: posN+=number\n",
    "        elif angle==2: posE-=number\n",
    "        elif angle==3: posN-=number\n",
    "\n",
    "print(\"posN:\",posN,\"posE:\",posE,\"angle:\",angle)"
   ]
  },
  {
   "cell_type": "code",
   "execution_count": 6,
   "metadata": {},
   "outputs": [
    {
     "data": {
      "text/plain": [
       "2057"
      ]
     },
     "execution_count": 6,
     "metadata": {},
     "output_type": "execute_result"
    }
   ],
   "source": [
    "# manhatten distance\n",
    "abs(posN)+abs(posE)"
   ]
  },
  {
   "cell_type": "markdown",
   "metadata": {},
   "source": [
    "#### part B"
   ]
  },
  {
   "cell_type": "code",
   "execution_count": 16,
   "metadata": {},
   "outputs": [
    {
     "name": "stdout",
     "output_type": "stream",
     "text": [
      "posN: -47233 posE: 24271 \n",
      "wposN: -47191 wposE 24197\n"
     ]
    }
   ],
   "source": [
    "# start position of ship\n",
    "posN=0\n",
    "posE=0\n",
    "# start position of waypoint (absolute coordinates)\n",
    "wposN=1\n",
    "wposE=10\n",
    "\n",
    "# follow every order\n",
    "for letter,number in zip(letters,numbers):\n",
    "    #print(\"posN:\",posN,\"posE:\",posE,\"      wposN:\",wposN,\"wposE\",wposE)\n",
    "    #print(letter,number)\n",
    "    # move waypoint NSWE\n",
    "    if letter==\"N\":\n",
    "        wposN+=number\n",
    "    if letter==\"S\":\n",
    "        wposN-=number\n",
    "    if letter==\"E\":\n",
    "        wposE+=number\n",
    "    if letter==\"W\":\n",
    "        wposE-=number\n",
    "\n",
    "    # rotate waypoint\n",
    "    if letter==\"L\":\n",
    "        nrot=int(number/90)\n",
    "        dE=wposE-posE\n",
    "        dN=wposN-posN\n",
    "        for idx in range(nrot):\n",
    "            tmp=dN\n",
    "            dN=dE\n",
    "            dE=-tmp\n",
    "        wposE=dE+posE\n",
    "        wposN=dN+posN\n",
    "        \n",
    "    if letter==\"R\":\n",
    "        nrot=int(number/90)\n",
    "        dE=wposE-posE\n",
    "        dN=wposN-posN\n",
    "        for idx in range(nrot):\n",
    "            tmp=dN\n",
    "            dN=-dE\n",
    "            dE=tmp\n",
    "        wposE=dE+posE\n",
    "        wposN=dN+posN\n",
    "\n",
    "    # move forward (both ship and waypoint)\n",
    "    if letter==\"F\":\n",
    "        dE=wposE-posE\n",
    "        dN=wposN-posN\n",
    "        posE+=number*dE\n",
    "        posN+=number*dN\n",
    "        wposE+=number*dE\n",
    "        wposN+=number*dN\n",
    "\n",
    "print(\"posN:\",posN,\"posE:\",posE,\"\\nwposN:\",wposN,\"wposE\",wposE)"
   ]
  },
  {
   "cell_type": "code",
   "execution_count": 17,
   "metadata": {},
   "outputs": [
    {
     "data": {
      "text/plain": [
       "71504"
      ]
     },
     "execution_count": 17,
     "metadata": {},
     "output_type": "execute_result"
    }
   ],
   "source": [
    "# manhatten distance\n",
    "abs(posN)+abs(posE)"
   ]
  },
  {
   "cell_type": "code",
   "execution_count": null,
   "metadata": {},
   "outputs": [],
   "source": []
  }
 ],
 "metadata": {
  "kernelspec": {
   "display_name": "Python 3",
   "language": "python",
   "name": "python3"
  },
  "language_info": {
   "codemirror_mode": {
    "name": "ipython",
    "version": 3
   },
   "file_extension": ".py",
   "mimetype": "text/x-python",
   "name": "python",
   "nbconvert_exporter": "python",
   "pygments_lexer": "ipython3",
   "version": "3.7.5"
  }
 },
 "nbformat": 4,
 "nbformat_minor": 2
}
