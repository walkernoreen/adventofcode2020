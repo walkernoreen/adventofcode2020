{
 "cells": [
  {
   "cell_type": "markdown",
   "metadata": {},
   "source": [
    "### Day 13\n",
    "#### part A"
   ]
  },
  {
   "cell_type": "code",
   "execution_count": 1,
   "metadata": {},
   "outputs": [],
   "source": [
    "import numpy as np"
   ]
  },
  {
   "cell_type": "code",
   "execution_count": 2,
   "metadata": {},
   "outputs": [],
   "source": [
    "infile=\"13a_input.txt\""
   ]
  },
  {
   "cell_type": "code",
   "execution_count": 3,
   "metadata": {},
   "outputs": [],
   "source": [
    "with open(infile) as f:\n",
    "    start=int(f.readline().replace(\"\\n\",\"\"))\n",
    "    idslist=f.readline().replace(\"\\n\",\"\")"
   ]
  },
  {
   "cell_type": "code",
   "execution_count": 4,
   "metadata": {},
   "outputs": [],
   "source": [
    "idslist=idslist.split(\",\")\n",
    "ids=[int(i) for i in idslist if i!=\"x\"]"
   ]
  },
  {
   "cell_type": "code",
   "execution_count": 5,
   "metadata": {},
   "outputs": [
    {
     "data": {
      "text/plain": [
       "[13, 37, 449, 29, 19, 23, 773, 41, 17]"
      ]
     },
     "execution_count": 5,
     "metadata": {},
     "output_type": "execute_result"
    }
   ],
   "source": [
    "ids"
   ]
  },
  {
   "cell_type": "code",
   "execution_count": 6,
   "metadata": {},
   "outputs": [
    {
     "data": {
      "text/plain": [
       "1002576"
      ]
     },
     "execution_count": 6,
     "metadata": {},
     "output_type": "execute_result"
    }
   ],
   "source": [
    "start"
   ]
  },
  {
   "cell_type": "code",
   "execution_count": 7,
   "metadata": {},
   "outputs": [
    {
     "name": "stdout",
     "output_type": "stream",
     "text": [
      "id 13 waiting: 10\n",
      "id 37 waiting: 13\n",
      "id 449 waiting: 41\n",
      "id 29 waiting: 12\n",
      "id 19 waiting: 16\n",
      "id 23 waiting: 17\n",
      "id 773 waiting: 5\n",
      "id 41 waiting: 38\n",
      "id 17 waiting: 16\n"
     ]
    }
   ],
   "source": [
    "for i in ids:\n",
    "    mod=start%i\n",
    "    if mod==0:\n",
    "        wait=0\n",
    "    else:\n",
    "        wait=i-mod\n",
    "    print(\"id\",i,\"waiting:\",wait)"
   ]
  },
  {
   "cell_type": "code",
   "execution_count": 8,
   "metadata": {},
   "outputs": [
    {
     "data": {
      "text/plain": [
       "3865"
      ]
     },
     "execution_count": 8,
     "metadata": {},
     "output_type": "execute_result"
    }
   ],
   "source": [
    "# earliest bus is id 773 with waiting time 5\n",
    "773*5"
   ]
  },
  {
   "cell_type": "markdown",
   "metadata": {},
   "source": [
    "#### part B"
   ]
  },
  {
   "cell_type": "code",
   "execution_count": 15,
   "metadata": {},
   "outputs": [
    {
     "name": "stdout",
     "output_type": "stream",
     "text": [
      "ID,    delay\n",
      "13 ,   0\n",
      "37 ,   7\n",
      "449 ,   13\n",
      "29 ,   15\n",
      "19 ,   32\n",
      "23 ,   36\n",
      "773 ,   44\n",
      "41 ,   54\n",
      "17 ,   61\n"
     ]
    }
   ],
   "source": [
    "delays=[]\n",
    "for idx,val in enumerate(idslist):\n",
    "    if val!=\"x\":\n",
    "        delays.append(idx)\n",
    "print(\"ID,    delay\")\n",
    "for tmpid,tmpdelay in zip(ids,delays):\n",
    "    print(tmpid,\",  \",tmpdelay)"
   ]
  },
  {
   "cell_type": "markdown",
   "metadata": {},
   "source": [
    "#### equations\n",
    "1. $13*n1=t$\n",
    "2. $37*n2=t+7$\n",
    "3. $449*n3=t+13$\n",
    "4. $29*n4=t+15$\n",
    "5. $19*n5=t+32$\n",
    "6. $23*n6=t+36$\n",
    "7. $773*n7=t+44$\n",
    "8. $41*n8=t+54$\n",
    "9. $17*n9=t+61$\n",
    "\n",
    "#### observations\n",
    "* n7 is multiple of 37 (see n2 and n7 line: $773*n7=t+7+37=37*(n2+1)$). with m7=n7/37: ```(773*37)*m7=t+44```\n",
    "* n3 is multiple of 13 (see n1 and n3 line). with m3=n3/13: ```(449*13)*m3=t+13```\n",
    "* -> ```m3=[(773*37)*m7-44+13]/(449*13)```\n",
    "* all numbers on the left side of the equations are prime."
   ]
  },
  {
   "cell_type": "markdown",
   "metadata": {},
   "source": [
    "#### continuing the argumentation similarly:\n",
    "* ```7. 773*n7=t+44```\n",
    "    * 2.: n7 is multiple of 37\n",
    "    * 4.: n7 is multiple of 29\n",
    "    * 9.: n7 is multiple of 17\n",
    "    * $-> \\mathbf{(773*37*29*17)*a=t+44}$\n",
    "\n",
    "* ```3. 449*n3=t+13```\n",
    "    * 1.: n3 is multiple of 13\n",
    "    * 5.: n3 is multiple of 19\n",
    "    * 6.: n3 is multiple of 23\n",
    "    * 8.: n3 is multiple of 41\n",
    "    * $-> \\mathbf{(449*13*19*23*41)*b=t+13}$\n",
    "\n",
    "* $\\mathbf{a,b, \\in N}$\n",
    "\n",
    "#### solving for b:\n",
    "$\\mathbf{b = [(773*37*29*17)*a-44+13] / (449*13*19*23*41)}$"
   ]
  },
  {
   "cell_type": "code",
   "execution_count": 56,
   "metadata": {},
   "outputs": [
    {
     "name": "stdout",
     "output_type": "stream",
     "text": [
      "Iteration 0 t: -44\n",
      "Iteration 1000000 t: 14100292999956\n",
      "Iteration 2000000 t: 28200585999956\n",
      "Iteration 3000000 t: 42300878999956\n",
      "Iteration 4000000 t: 56401171999956\n",
      "Iteration 5000000 t: 70501464999956\n",
      "Iteration 6000000 t: 84601757999956\n",
      "Iteration 7000000 t: 98702050999956\n",
      "Iteration 8000000 t: 112802343999956\n",
      "Iteration 9000000 t: 126902636999956\n",
      "Iteration 10000000 t: 141002929999956\n",
      "Iteration 11000000 t: 155103222999956\n",
      "Iteration 12000000 t: 169203515999956\n",
      "Iteration 13000000 t: 183303808999956\n",
      "Iteration 14000000 t: 197404101999956\n",
      "Iteration 15000000 t: 211504394999956\n",
      "Iteration 16000000 t: 225604687999956\n",
      "Iteration 17000000 t: 239704980999956\n",
      "Iteration 18000000 t: 253805273999956\n",
      "Iteration 19000000 t: 267905566999956\n",
      "Iteration 20000000 t: 282005859999956\n",
      "Iteration 21000000 t: 296106152999956\n",
      "Iteration 22000000 t: 310206445999956\n",
      "Iteration 23000000 t: 324306738999956\n",
      "Iteration 24000000 t: 338407031999956\n",
      "Iteration 25000000 t: 352507324999956\n",
      "Iteration 26000000 t: 366607617999956\n",
      "Iteration 27000000 t: 380707910999956\n",
      "Iteration 28000000 t: 394808203999956\n",
      "Iteration 29000000 t: 408908496999956\n",
      "a: 29473140 t: 415579909629976\n",
      "done\n",
      "Wall time: 29.5 s\n"
     ]
    }
   ],
   "source": [
    "%%time\n",
    "# try integer values for a and check whether b is then also an integer\n",
    "#for a in range(100000):\n",
    "a=0\n",
    "while True:\n",
    "    remainder=((773*37*29*17)*a-44+13) % (449*13*19*23*41)\n",
    "    if a%1000000==0:\n",
    "        t=(773*37*29*17)*a-44\n",
    "        print(\"Iteration\",a, \"t:\",t)\n",
    "        #pass\n",
    "    if remainder==0:\n",
    "        t=(773*37*29*17)*a-44\n",
    "        print(\"a:\",a, \"t:\",t)\n",
    "        break\n",
    "    a+=1\n",
    "print(\"done\")"
   ]
  },
  {
   "cell_type": "code",
   "execution_count": null,
   "metadata": {},
   "outputs": [],
   "source": []
  }
 ],
 "metadata": {
  "kernelspec": {
   "display_name": "Python 3",
   "language": "python",
   "name": "python3"
  },
  "language_info": {
   "codemirror_mode": {
    "name": "ipython",
    "version": 3
   },
   "file_extension": ".py",
   "mimetype": "text/x-python",
   "name": "python",
   "nbconvert_exporter": "python",
   "pygments_lexer": "ipython3",
   "version": "3.7.5"
  }
 },
 "nbformat": 4,
 "nbformat_minor": 2
}
