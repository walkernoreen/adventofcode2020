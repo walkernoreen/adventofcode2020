{
 "cells": [
  {
   "cell_type": "markdown",
   "metadata": {},
   "source": [
    "### Day 06\n",
    "#### Part A"
   ]
  },
  {
   "cell_type": "code",
   "execution_count": 1,
   "metadata": {},
   "outputs": [],
   "source": [
    "infile=\"06a_input.txt\""
   ]
  },
  {
   "cell_type": "code",
   "execution_count": 2,
   "metadata": {},
   "outputs": [],
   "source": [
    "with open(infile) as f:\n",
    "    lines=f.readlines()"
   ]
  },
  {
   "cell_type": "code",
   "execution_count": 3,
   "metadata": {},
   "outputs": [],
   "source": [
    "# split into items: one item=all answers of one group. item itself is a list with each element=answer of one person\n",
    "items=[]\n",
    "current_group=[]\n",
    "for line in lines:\n",
    "    # start with a new group\n",
    "    if line==\"\\n\":\n",
    "        if len(current_group)!=0:\n",
    "            # append the last group to the items\n",
    "            items.append(current_group)\n",
    "        # restart with next group\n",
    "        current_group=[]\n",
    "    else:\n",
    "        current_group.append(line.replace(\"\\n\",\"\"))\n",
    "        \n",
    "# append the last group\n",
    "if len(current_group)!=0:\n",
    "    items.append(current_group)\n"
   ]
  },
  {
   "cell_type": "code",
   "execution_count": 4,
   "metadata": {},
   "outputs": [
    {
     "data": {
      "text/plain": [
       "[['x', 'x'],\n",
       " ['ygzdvpxjk', 'bzdgq', 'aulrhfwi'],\n",
       " ['tpasjur', 'jrutopas', 'rtjpaus', 'sraetpju', 'tpajsru'],\n",
       " ['vus', 'uvs', 'vwups'],\n",
       " ['r', 'r', 'r', 'd', 'j']]"
      ]
     },
     "execution_count": 4,
     "metadata": {},
     "output_type": "execute_result"
    }
   ],
   "source": [
    "items[:5]"
   ]
  },
  {
   "cell_type": "code",
   "execution_count": 5,
   "metadata": {},
   "outputs": [
    {
     "data": {
      "text/plain": [
       "['xx',\n",
       " 'ygzdvpxjkbzdgqaulrhfwi',\n",
       " 'tpasjurjrutopasrtjpaussraetpjutpajsru',\n",
       " 'vusuvsvwups',\n",
       " 'rrrdj']"
      ]
     },
     "execution_count": 5,
     "metadata": {},
     "output_type": "execute_result"
    }
   ],
   "source": [
    "# all answers of one group merged into a long string\n",
    "itemsjoined=[\"\".join(item) for item in items]\n",
    "itemsjoined[:5]"
   ]
  },
  {
   "cell_type": "code",
   "execution_count": 6,
   "metadata": {},
   "outputs": [],
   "source": [
    "# count unique nr of letters in each string=item\n",
    "num_unique=[len(set(ij)) for ij in itemsjoined]"
   ]
  },
  {
   "cell_type": "code",
   "execution_count": 7,
   "metadata": {},
   "outputs": [
    {
     "data": {
      "text/plain": [
       "6612"
      ]
     },
     "execution_count": 7,
     "metadata": {},
     "output_type": "execute_result"
    }
   ],
   "source": [
    "sum(num_unique)"
   ]
  },
  {
   "cell_type": "code",
   "execution_count": null,
   "metadata": {},
   "outputs": [],
   "source": []
  },
  {
   "cell_type": "markdown",
   "metadata": {},
   "source": [
    "#### Part B"
   ]
  },
  {
   "cell_type": "code",
   "execution_count": 8,
   "metadata": {},
   "outputs": [
    {
     "name": "stdout",
     "output_type": "stream",
     "text": [
      "[['x'], ['i', 'y', 'u', 'k', 'j', 'p', 'r', 'b', 'l', 'q', 'z', 'w', 'h', 'd', 'g', 'x', 'a', 'v', 'f'], ['j', 'p', 's', 'a', 'r', 'o', 't', 'e', 'u']]\n"
     ]
    }
   ],
   "source": [
    "# for each group (item), collect all letters that were answered at least once (see part A)\n",
    "answers=[list(set(ij)) for ij in itemsjoined]\n",
    "print(answers[:3])"
   ]
  },
  {
   "cell_type": "code",
   "execution_count": 10,
   "metadata": {},
   "outputs": [],
   "source": [
    "# for each answer in each group now check whether the answer was given n times (n=groupsize)\n",
    "\n",
    "allcounts=[] # number of \"all\" answers per group\n",
    "\n",
    "for idx in range(len(items)):\n",
    "    num_groupanswers=0\n",
    "\n",
    "    # current group\n",
    "    groupsize=len(items[idx])\n",
    "    itemj=itemsjoined[idx]\n",
    "    \n",
    "    # check all answers that anyone in the group has given\n",
    "    for letter in answers[idx]:\n",
    "        answercount=itemj.count(letter)\n",
    "        if answercount==groupsize: # answered by everyone\n",
    "            num_groupanswers+=1\n",
    "    allcounts.append(num_groupanswers)"
   ]
  },
  {
   "cell_type": "code",
   "execution_count": 11,
   "metadata": {},
   "outputs": [
    {
     "data": {
      "text/plain": [
       "[1, 0, 7, 3, 0, 7, 10, 3, 19, 5, 8, 4, 3, 14, 12, 9, 2, 3, 21, 17]"
      ]
     },
     "execution_count": 11,
     "metadata": {},
     "output_type": "execute_result"
    }
   ],
   "source": [
    "allcounts[:20]"
   ]
  },
  {
   "cell_type": "code",
   "execution_count": 12,
   "metadata": {},
   "outputs": [
    {
     "data": {
      "text/plain": [
       "3268"
      ]
     },
     "execution_count": 12,
     "metadata": {},
     "output_type": "execute_result"
    }
   ],
   "source": [
    "# final answer\n",
    "sum(allcounts)"
   ]
  },
  {
   "cell_type": "code",
   "execution_count": null,
   "metadata": {},
   "outputs": [],
   "source": []
  }
 ],
 "metadata": {
  "kernelspec": {
   "display_name": "Python 3",
   "language": "python",
   "name": "python3"
  },
  "language_info": {
   "codemirror_mode": {
    "name": "ipython",
    "version": 3
   },
   "file_extension": ".py",
   "mimetype": "text/x-python",
   "name": "python",
   "nbconvert_exporter": "python",
   "pygments_lexer": "ipython3",
   "version": "3.7.5"
  }
 },
 "nbformat": 4,
 "nbformat_minor": 2
}
