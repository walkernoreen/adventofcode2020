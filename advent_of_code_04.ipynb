{
 "cells": [
  {
   "cell_type": "markdown",
   "metadata": {},
   "source": [
    "### Day 4\n",
    "#### part A + B (general part)"
   ]
  },
  {
   "cell_type": "code",
   "execution_count": 1,
   "metadata": {},
   "outputs": [],
   "source": [
    "import pandas as pd\n",
    "import re"
   ]
  },
  {
   "cell_type": "code",
   "execution_count": 2,
   "metadata": {},
   "outputs": [],
   "source": [
    "infile=\"04a_input.txt\""
   ]
  },
  {
   "cell_type": "code",
   "execution_count": 3,
   "metadata": {},
   "outputs": [],
   "source": [
    "with open(infile) as f:\n",
    "    textraw=f.read()"
   ]
  },
  {
   "cell_type": "code",
   "execution_count": 4,
   "metadata": {},
   "outputs": [
    {
     "data": {
      "text/plain": [
       "'iyr:2015 cid:189 ecl:oth byr:1947 hcl:#6c4ab1 eyr:2026\\nhgt:174cm\\npid:526744288\\n\\npid:688706448 iyr:20'"
      ]
     },
     "execution_count": 4,
     "metadata": {},
     "output_type": "execute_result"
    }
   ],
   "source": [
    "# print first few characters of the full text document\n",
    "textraw[:100]"
   ]
  },
  {
   "cell_type": "code",
   "execution_count": 5,
   "metadata": {},
   "outputs": [
    {
     "data": {
      "text/plain": [
       "['iyr:2015 cid:189 ecl:oth byr:1947 hcl:#6c4ab1 eyr:2026\\nhgt:174cm\\npid:526744288',\n",
       " '\\n',\n",
       " 'pid:688706448 iyr:2017 hgt:162cm cid:174 ecl:grn byr:1943 hcl:#808e9e eyr:2025',\n",
       " '\\n',\n",
       " 'ecl:oth hcl:#733820 cid:124 pid:111220591\\niyr:2019 eyr:2001\\nbyr:1933 hgt:159in',\n",
       " '\\n',\n",
       " 'pid:812929897 hgt:159cm hcl:#fffffd byr:1942 iyr:2026 cid:291\\necl:oth\\neyr:2024',\n",
       " '\\n',\n",
       " 'cid:83 pid:524032739 iyr:2013 ecl:amb byr:1974\\nhgt:191cm hcl:#ceb3a1 eyr:2028',\n",
       " '\\n']"
      ]
     },
     "execution_count": 5,
     "metadata": {},
     "output_type": "execute_result"
    }
   ],
   "source": [
    "# split at empty lines, create a list: each element/item is one passport(or invalid doc)\n",
    "textstructured=re.split(\"(\\\\n){2}\", textraw)\n",
    "textstructured[:10]"
   ]
  },
  {
   "cell_type": "code",
   "execution_count": 7,
   "metadata": {},
   "outputs": [
    {
     "data": {
      "text/plain": [
       "['iyr:2015 cid:189 ecl:oth byr:1947 hcl:#6c4ab1 eyr:2026 hgt:174cm pid:526744288',\n",
       " 'pid:688706448 iyr:2017 hgt:162cm cid:174 ecl:grn byr:1943 hcl:#808e9e eyr:2025',\n",
       " 'ecl:oth hcl:#733820 cid:124 pid:111220591 iyr:2019 eyr:2001 byr:1933 hgt:159in',\n",
       " 'pid:812929897 hgt:159cm hcl:#fffffd byr:1942 iyr:2026 cid:291 ecl:oth eyr:2024',\n",
       " 'cid:83 pid:524032739 iyr:2013 ecl:amb byr:1974 hgt:191cm hcl:#ceb3a1 eyr:2028']"
      ]
     },
     "execution_count": 7,
     "metadata": {},
     "output_type": "execute_result"
    }
   ],
   "source": [
    "# replace new lines within an item with space\n",
    "items=[]\n",
    "for line in textstructured:\n",
    "    if line!=\"\\n\":\n",
    "        line=line.replace(\"\\n\",\" \")\n",
    "        items.append(line)\n",
    "\n",
    "# remove accidental trailing space (in last item)\n",
    "for idx,item in enumerate(items):\n",
    "    if item[-1]==\" \":\n",
    "        items[idx]=item[:-1]\n",
    "\n",
    "items[:5]"
   ]
  },
  {
   "cell_type": "markdown",
   "metadata": {},
   "source": [
    "#### part A"
   ]
  },
  {
   "cell_type": "code",
   "execution_count": 8,
   "metadata": {},
   "outputs": [],
   "source": [
    "# required identifiers:\n",
    "ids_req=[\"byr\",\"iyr\", \"eyr\", \"hgt\",\"hcl\", \"ecl\" ,\"pid\"]\n",
    "# optional identifier:\n",
    "ids_opt=[\"cid\"]"
   ]
  },
  {
   "cell_type": "code",
   "execution_count": 9,
   "metadata": {},
   "outputs": [],
   "source": [
    "# check all document items\n",
    "count_passport=0\n",
    "count_valid=0 # passport of northpole\n",
    "\n",
    "for item in items:\n",
    "    is_valid=all([(descr in item) for descr in ids_req])\n",
    "    if is_valid:\n",
    "        count_valid+=1\n",
    "        is_passport=all([(descr in item) for descr in ids_opt])\n",
    "        if is_passport:\n",
    "            count_passport+=1"
   ]
  },
  {
   "cell_type": "code",
   "execution_count": 10,
   "metadata": {},
   "outputs": [
    {
     "name": "stdout",
     "output_type": "stream",
     "text": [
      "passports: 135 , valid (passport or northpole card): 264\n"
     ]
    }
   ],
   "source": [
    "print(\"passports:\",count_passport,\", valid (passport or northpole card):\",count_valid)"
   ]
  },
  {
   "cell_type": "code",
   "execution_count": null,
   "metadata": {},
   "outputs": [],
   "source": []
  },
  {
   "cell_type": "markdown",
   "metadata": {},
   "source": [
    "#### part B"
   ]
  },
  {
   "cell_type": "code",
   "execution_count": 11,
   "metadata": {},
   "outputs": [],
   "source": [
    "def itemtodict(it):\n",
    "    # converts a single item (string) into a dict with keywords+value\n",
    "    itsplit=it.split(\" \")\n",
    "    itsplit=list(map(pairtotuple,itsplit))\n",
    "    itsplit=dict(itsplit)\n",
    "    return itsplit\n",
    "\n",
    "def pairtotuple(string):\n",
    "    return tuple(string.split(\":\"))\n"
   ]
  },
  {
   "cell_type": "code",
   "execution_count": 13,
   "metadata": {},
   "outputs": [
    {
     "data": {
      "text/plain": [
       "{'iyr': '2015',\n",
       " 'cid': '189',\n",
       " 'ecl': 'oth',\n",
       " 'byr': '1947',\n",
       " 'hcl': '#6c4ab1',\n",
       " 'eyr': '2026',\n",
       " 'hgt': '174cm',\n",
       " 'pid': '526744288'}"
      ]
     },
     "execution_count": 13,
     "metadata": {},
     "output_type": "execute_result"
    }
   ],
   "source": [
    "# convert items list (strings) into a list of dictionaries\n",
    "items_w_dicts=[itemtodict(item) for item in items]\n",
    "\n",
    "items_w_dicts[0]"
   ]
  },
  {
   "cell_type": "code",
   "execution_count": 14,
   "metadata": {},
   "outputs": [
    {
     "data": {
      "text/html": [
       "<div>\n",
       "<style scoped>\n",
       "    .dataframe tbody tr th:only-of-type {\n",
       "        vertical-align: middle;\n",
       "    }\n",
       "\n",
       "    .dataframe tbody tr th {\n",
       "        vertical-align: top;\n",
       "    }\n",
       "\n",
       "    .dataframe thead th {\n",
       "        text-align: right;\n",
       "    }\n",
       "</style>\n",
       "<table border=\"1\" class=\"dataframe\">\n",
       "  <thead>\n",
       "    <tr style=\"text-align: right;\">\n",
       "      <th></th>\n",
       "      <th>iyr</th>\n",
       "      <th>cid</th>\n",
       "      <th>ecl</th>\n",
       "      <th>byr</th>\n",
       "      <th>hcl</th>\n",
       "      <th>eyr</th>\n",
       "      <th>hgt</th>\n",
       "      <th>pid</th>\n",
       "    </tr>\n",
       "  </thead>\n",
       "  <tbody>\n",
       "    <tr>\n",
       "      <th>0</th>\n",
       "      <td>2015</td>\n",
       "      <td>189</td>\n",
       "      <td>oth</td>\n",
       "      <td>1947</td>\n",
       "      <td>#6c4ab1</td>\n",
       "      <td>2026</td>\n",
       "      <td>174cm</td>\n",
       "      <td>526744288</td>\n",
       "    </tr>\n",
       "    <tr>\n",
       "      <th>1</th>\n",
       "      <td>2017</td>\n",
       "      <td>174</td>\n",
       "      <td>grn</td>\n",
       "      <td>1943</td>\n",
       "      <td>#808e9e</td>\n",
       "      <td>2025</td>\n",
       "      <td>162cm</td>\n",
       "      <td>688706448</td>\n",
       "    </tr>\n",
       "    <tr>\n",
       "      <th>2</th>\n",
       "      <td>2019</td>\n",
       "      <td>124</td>\n",
       "      <td>oth</td>\n",
       "      <td>1933</td>\n",
       "      <td>#733820</td>\n",
       "      <td>2001</td>\n",
       "      <td>159in</td>\n",
       "      <td>111220591</td>\n",
       "    </tr>\n",
       "    <tr>\n",
       "      <th>3</th>\n",
       "      <td>2026</td>\n",
       "      <td>291</td>\n",
       "      <td>oth</td>\n",
       "      <td>1942</td>\n",
       "      <td>#fffffd</td>\n",
       "      <td>2024</td>\n",
       "      <td>159cm</td>\n",
       "      <td>812929897</td>\n",
       "    </tr>\n",
       "    <tr>\n",
       "      <th>4</th>\n",
       "      <td>2013</td>\n",
       "      <td>83</td>\n",
       "      <td>amb</td>\n",
       "      <td>1974</td>\n",
       "      <td>#ceb3a1</td>\n",
       "      <td>2028</td>\n",
       "      <td>191cm</td>\n",
       "      <td>524032739</td>\n",
       "    </tr>\n",
       "    <tr>\n",
       "      <th>...</th>\n",
       "      <td>...</td>\n",
       "      <td>...</td>\n",
       "      <td>...</td>\n",
       "      <td>...</td>\n",
       "      <td>...</td>\n",
       "      <td>...</td>\n",
       "      <td>...</td>\n",
       "      <td>...</td>\n",
       "    </tr>\n",
       "    <tr>\n",
       "      <th>290</th>\n",
       "      <td>2020</td>\n",
       "      <td>329</td>\n",
       "      <td>grn</td>\n",
       "      <td>1946</td>\n",
       "      <td>#a97842</td>\n",
       "      <td>2025</td>\n",
       "      <td>158cm</td>\n",
       "      <td>636649774</td>\n",
       "    </tr>\n",
       "    <tr>\n",
       "      <th>291</th>\n",
       "      <td>2020</td>\n",
       "      <td>97</td>\n",
       "      <td>blu</td>\n",
       "      <td>1951</td>\n",
       "      <td>#341e13</td>\n",
       "      <td>2023</td>\n",
       "      <td>161cm</td>\n",
       "      <td>461889565</td>\n",
       "    </tr>\n",
       "    <tr>\n",
       "      <th>292</th>\n",
       "      <td>2013</td>\n",
       "      <td>150</td>\n",
       "      <td>hzl</td>\n",
       "      <td>1980</td>\n",
       "      <td>#cfa07d</td>\n",
       "      <td>2029</td>\n",
       "      <td>168cm</td>\n",
       "      <td>492241189</td>\n",
       "    </tr>\n",
       "    <tr>\n",
       "      <th>293</th>\n",
       "      <td>2016</td>\n",
       "      <td>153</td>\n",
       "      <td>gry</td>\n",
       "      <td>1998</td>\n",
       "      <td>#733820</td>\n",
       "      <td>2024</td>\n",
       "      <td>150cm</td>\n",
       "      <td>401735295</td>\n",
       "    </tr>\n",
       "    <tr>\n",
       "      <th>294</th>\n",
       "      <td>2018</td>\n",
       "      <td>NaN</td>\n",
       "      <td>hzl</td>\n",
       "      <td>2001</td>\n",
       "      <td>#a97842</td>\n",
       "      <td>2025</td>\n",
       "      <td>184cm</td>\n",
       "      <td>453480077</td>\n",
       "    </tr>\n",
       "  </tbody>\n",
       "</table>\n",
       "<p>295 rows × 8 columns</p>\n",
       "</div>"
      ],
      "text/plain": [
       "      iyr  cid  ecl   byr      hcl   eyr    hgt        pid\n",
       "0    2015  189  oth  1947  #6c4ab1  2026  174cm  526744288\n",
       "1    2017  174  grn  1943  #808e9e  2025  162cm  688706448\n",
       "2    2019  124  oth  1933  #733820  2001  159in  111220591\n",
       "3    2026  291  oth  1942  #fffffd  2024  159cm  812929897\n",
       "4    2013   83  amb  1974  #ceb3a1  2028  191cm  524032739\n",
       "..    ...  ...  ...   ...      ...   ...    ...        ...\n",
       "290  2020  329  grn  1946  #a97842  2025  158cm  636649774\n",
       "291  2020   97  blu  1951  #341e13  2023  161cm  461889565\n",
       "292  2013  150  hzl  1980  #cfa07d  2029  168cm  492241189\n",
       "293  2016  153  gry  1998  #733820  2024  150cm  401735295\n",
       "294  2018  NaN  hzl  2001  #a97842  2025  184cm  453480077\n",
       "\n",
       "[295 rows x 8 columns]"
      ]
     },
     "execution_count": 14,
     "metadata": {},
     "output_type": "execute_result"
    }
   ],
   "source": [
    "df=pd.DataFrame(items_w_dicts)\n",
    "df"
   ]
  },
  {
   "cell_type": "code",
   "execution_count": 15,
   "metadata": {},
   "outputs": [
    {
     "data": {
      "text/plain": [
       "264"
      ]
     },
     "execution_count": 15,
     "metadata": {},
     "output_type": "execute_result"
    }
   ],
   "source": [
    "# drop all the rows with missing values\n",
    "df=df[ids_req].dropna()\n",
    "len(df) # this is also the answer to A"
   ]
  },
  {
   "cell_type": "markdown",
   "metadata": {},
   "source": [
    "#### conditions \n",
    "```\n",
    "byr (Birth Year) - four digits; at least 1920 and at most 2002.\n",
    "iyr (Issue Year) - four digits; at least 2010 and at most 2020.\n",
    "eyr (Expiration Year) - four digits; at least 2020 and at most 2030.\n",
    "hgt (Height) - a number followed by either cm or in:\n",
    "If cm, the number must be at least 150 and at most 193.\n",
    "If in, the number must be at least 59 and at most 76.\n",
    "hcl (Hair Color) - a # followed by exactly six characters 0-9 or a-f.\n",
    "ecl (Eye Color) - exactly one of: amb blu brn gry grn hzl oth.\n",
    "pid (Passport ID) - a nine-digit number, including leading zeroes.\n",
    "cid (Country ID) - ignored, missing or not.\n",
    "```"
   ]
  },
  {
   "cell_type": "code",
   "execution_count": 16,
   "metadata": {},
   "outputs": [],
   "source": [
    "# checks for every individual category\n",
    "\n",
    "def check_yr(string, start, end):\n",
    "    # check whether the string is a 4 digit number and whether it's between the start and end year (inclusive)\n",
    "    # use for byr, iyr, eyr\n",
    "    pattern=r\"\\d{4}\"\n",
    "    if re.fullmatch(pattern,string) is not None: #it's 4 digits\n",
    "        nr=int(string)\n",
    "        if nr>=start and nr<=end:\n",
    "            return True\n",
    "        else:\n",
    "            return False\n",
    "    else:\n",
    "        return False\n",
    "    \n",
    "def check_hgt(string):\n",
    "    # checks height. first checks if it's 2digit+\"in\" or 3digit+\"cm\", then checks the precise number\n",
    "    ok=False\n",
    "    pattern=r\"(\\d{2}in)|(\\d{3}cm)\"\n",
    "    if re.fullmatch(pattern, string) is not None:\n",
    "        if \"cm\" in string:\n",
    "            nr=int(string[:3]) # we know already it's 3 digits\n",
    "            if nr>=150 and nr<=193:\n",
    "                ok=True\n",
    "        else: # \"in\"\n",
    "            nr=int(string[:2])\n",
    "            if nr>=59 and nr<=76:\n",
    "                ok=True\n",
    "    return ok\n",
    "\n",
    "def check_hcl(string):\n",
    "    pattern=r\"#[\\da-f]{6}\"\n",
    "    if re.fullmatch(pattern, string) is not None:\n",
    "        return True\n",
    "    else: \n",
    "        return False\n",
    "    \n",
    "def check_ecl(string):\n",
    "    pattern=r\"amb|blu|brn|gry|grn|hzl|oth\"\n",
    "    if re.fullmatch(pattern, string) is not None:\n",
    "        return True\n",
    "    else: \n",
    "        return False\n",
    "    \n",
    "def check_pid(string):\n",
    "    pattern=r\"\\d{9}\"\n",
    "    if re.fullmatch(pattern, string) is not None:\n",
    "        return True\n",
    "    else: \n",
    "        return False\n",
    "\n"
   ]
  },
  {
   "cell_type": "code",
   "execution_count": 18,
   "metadata": {},
   "outputs": [],
   "source": [
    "from functools import partial"
   ]
  },
  {
   "cell_type": "code",
   "execution_count": 19,
   "metadata": {},
   "outputs": [],
   "source": [
    "# required columns and corresponding condition\n",
    "ids_req=[\"byr\",\"iyr\", \"eyr\", \"hgt\",\"hcl\", \"ecl\" ,\"pid\"]\n",
    "\n",
    "check_fcts=[partial(check_yr,start=1920,end=2002), # byr\n",
    "            partial(check_yr,start=2010,end=2020), # iyr\n",
    "            partial(check_yr,start=2020,end=2030), # eyr\n",
    "            check_hgt,\n",
    "            check_hcl,\n",
    "            check_ecl,\n",
    "            check_pid\n",
    "           ]\n"
   ]
  },
  {
   "cell_type": "code",
   "execution_count": 27,
   "metadata": {},
   "outputs": [],
   "source": [
    "# test all conditions\n",
    "for idx in range(len(ids_req)):\n",
    "    # a series with \"true\" in a row if the test was passed\n",
    "    checked=df[ids_req[idx]].apply(check_fcts[idx])\n",
    "    # combine all tests\n",
    "    if idx==0:\n",
    "        checked_all=checked\n",
    "    else:\n",
    "        checked_all=checked_all & checked\n"
   ]
  },
  {
   "cell_type": "code",
   "execution_count": 29,
   "metadata": {},
   "outputs": [
    {
     "data": {
      "text/plain": [
       "224"
      ]
     },
     "execution_count": 29,
     "metadata": {},
     "output_type": "execute_result"
    }
   ],
   "source": [
    "# final results for (B)\n",
    "sum(checked_all)"
   ]
  },
  {
   "cell_type": "code",
   "execution_count": null,
   "metadata": {},
   "outputs": [],
   "source": []
  }
 ],
 "metadata": {
  "kernelspec": {
   "display_name": "Python 3",
   "language": "python",
   "name": "python3"
  },
  "language_info": {
   "codemirror_mode": {
    "name": "ipython",
    "version": 3
   },
   "file_extension": ".py",
   "mimetype": "text/x-python",
   "name": "python",
   "nbconvert_exporter": "python",
   "pygments_lexer": "ipython3",
   "version": "3.7.5"
  }
 },
 "nbformat": 4,
 "nbformat_minor": 2
}
