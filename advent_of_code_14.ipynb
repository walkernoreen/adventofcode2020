{
 "cells": [
  {
   "cell_type": "markdown",
   "metadata": {},
   "source": [
    "### Day 14\n",
    "#### part A"
   ]
  },
  {
   "cell_type": "code",
   "execution_count": 1,
   "metadata": {},
   "outputs": [],
   "source": [
    "infile=\"14a_input.txt\""
   ]
  },
  {
   "cell_type": "code",
   "execution_count": 2,
   "metadata": {},
   "outputs": [],
   "source": [
    "with open(infile) as f:\n",
    "    lines=f.readlines()"
   ]
  },
  {
   "cell_type": "code",
   "execution_count": 3,
   "metadata": {},
   "outputs": [
    {
     "data": {
      "text/plain": [
       "['mask = 100110001110110011001X101110X1XX10X1',\n",
       " 'mem[62998] = 9708340',\n",
       " 'mem[33440] = 124867031',\n",
       " 'mem[6869] = 81126',\n",
       " 'mask = 11110000X01010010XX10X000XX00X001010',\n",
       " 'mem[13476] = 173113',\n",
       " 'mem[39561] = 27229922',\n",
       " 'mem[35430] = 347364280',\n",
       " 'mem[59598] = 3650',\n",
       " 'mem[13531] = 844841709']"
      ]
     },
     "execution_count": 3,
     "metadata": {},
     "output_type": "execute_result"
    }
   ],
   "source": [
    "lines=[line.replace(\"\\n\",\"\") for line in lines]\n",
    "lines[:10]"
   ]
  },
  {
   "cell_type": "code",
   "execution_count": 4,
   "metadata": {},
   "outputs": [],
   "source": [
    "def process_number(line,mask):\n",
    "    \"\"\"processes a line that contains a 'mem'. Returns the new number. mask is a string\n",
    "    \"\"\"\n",
    "    assert \"mem\" in line\n",
    "    val=int(line.rsplit(\"= \")[1])\n",
    "    binval=bin(val)\n",
    "    binval=binval[2:]# remove the \"0b\" binary identifier\n",
    "    binval=binval.zfill(36)# prepend with zeros\n",
    "    binval_list=list(binval)\n",
    "    # overwrite with mask\n",
    "    for idx,char in enumerate(mask):\n",
    "        if char!=\"X\":\n",
    "            binval_list[idx]=char\n",
    "    binval=\"\".join(binval_list)\n",
    "    newvalue=int(binval,base=2)\n",
    "    return newvalue"
   ]
  },
  {
   "cell_type": "code",
   "execution_count": 5,
   "metadata": {},
   "outputs": [],
   "source": [
    "# store the saved numbers in a dict\n",
    "numdict=dict()\n",
    "\n",
    "# process all lines\n",
    "mask=\"X\"*36\n",
    "\n",
    "for line in lines:\n",
    "    if \"mask\" in line:\n",
    "        mask=line.rsplit(\"= \")[1]\n",
    "        \n",
    "    if \"mem\" in line:\n",
    "        newval=process_number(line,mask)\n",
    "        idx=int(line.split(\"[\")[1].split(\"]\")[0])\n",
    "        numdict[idx]=newval\n"
   ]
  },
  {
   "cell_type": "code",
   "execution_count": 6,
   "metadata": {},
   "outputs": [],
   "source": [
    "# final result\n",
    "mysum=0\n",
    "\n",
    "for key in numdict.keys():\n",
    "    mysum+=numdict[key]"
   ]
  },
  {
   "cell_type": "code",
   "execution_count": 7,
   "metadata": {},
   "outputs": [
    {
     "data": {
      "text/plain": [
       "14839536808842"
      ]
     },
     "execution_count": 7,
     "metadata": {},
     "output_type": "execute_result"
    }
   ],
   "source": [
    "mysum"
   ]
  },
  {
   "cell_type": "markdown",
   "metadata": {},
   "source": [
    "#### part B"
   ]
  },
  {
   "cell_type": "code",
   "execution_count": 8,
   "metadata": {},
   "outputs": [],
   "source": [
    "def process_mem(line,mask):\n",
    "    \"\"\"processes a line that contains a 'mem'. Returns the new memory adresses as a list. mask is a string\n",
    "    \"\"\"\n",
    "    assert \"mem\" in line\n",
    "    val=int(line.split(\"[\")[1].split(\"]\")[0]) # mem adress\n",
    "    binval=bin(val)\n",
    "    binval=binval[2:]# remove the \"0b\" binary identifier\n",
    "    binval=binval.zfill(36)# prepend with zeros\n",
    "    \n",
    "    # process the mask\n",
    "    # 0: nothing happens\n",
    "    # 1: overwrite mem adress with 1\n",
    "    # X: floating\n",
    "    binval_list=list(binval)\n",
    "    xidxs=[]\n",
    "    for idx,char in enumerate(mask):\n",
    "        if char==\"1\":\n",
    "            binval_list[idx]=char\n",
    "        if char==\"X\":\n",
    "            xidxs.append(idx)\n",
    "    #binval=\"\".join(binval_list)\n",
    "    \n",
    "    # all 'floating' memory addresses\n",
    "    floatmems=[] # 2^(len(xidxs))\n",
    "    for i in range(2**len(xidxs)):\n",
    "        repl=bin(i)[2:].zfill(len(xidxs)) # \"000\", \"001\", ...\n",
    "       \n",
    "        # replace the digits\n",
    "        newbinval=binval_list.copy()\n",
    "        for idx in range(len(xidxs)):\n",
    "            newbinval[xidxs[idx]]=repl[idx]\n",
    "        newbinval=\"\".join(newbinval)\n",
    "        floatmems.append(int(newbinval,base=2))\n",
    "    return floatmems"
   ]
  },
  {
   "cell_type": "code",
   "execution_count": 9,
   "metadata": {},
   "outputs": [],
   "source": [
    "# store the saved numbers in a dict\n",
    "numdict=dict()\n",
    "\n",
    "# process all lines\n",
    "mask=\"X\"*36\n",
    "\n",
    "for line in lines:\n",
    "    if \"mask\" in line:\n",
    "        mask=line.rsplit(\"= \")[1]\n",
    "        \n",
    "    if \"mem\" in line:\n",
    "        newmems=process_mem(line,mask)\n",
    "        val=int(line.rsplit(\"= \")[1])\n",
    "        for idx in newmems:\n",
    "            numdict[idx]=val\n"
   ]
  },
  {
   "cell_type": "code",
   "execution_count": 10,
   "metadata": {},
   "outputs": [],
   "source": [
    "# final result\n",
    "mysum=0\n",
    "\n",
    "for key in numdict.keys():\n",
    "    mysum+=numdict[key]"
   ]
  },
  {
   "cell_type": "code",
   "execution_count": 11,
   "metadata": {},
   "outputs": [
    {
     "data": {
      "text/plain": [
       "4215284199669"
      ]
     },
     "execution_count": 11,
     "metadata": {},
     "output_type": "execute_result"
    }
   ],
   "source": [
    "mysum"
   ]
  },
  {
   "cell_type": "code",
   "execution_count": null,
   "metadata": {},
   "outputs": [],
   "source": []
  }
 ],
 "metadata": {
  "kernelspec": {
   "display_name": "Python 3",
   "language": "python",
   "name": "python3"
  },
  "language_info": {
   "codemirror_mode": {
    "name": "ipython",
    "version": 3
   },
   "file_extension": ".py",
   "mimetype": "text/x-python",
   "name": "python",
   "nbconvert_exporter": "python",
   "pygments_lexer": "ipython3",
   "version": "3.7.5"
  }
 },
 "nbformat": 4,
 "nbformat_minor": 2
}
