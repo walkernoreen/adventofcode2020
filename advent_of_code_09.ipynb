{
 "cells": [
  {
   "cell_type": "markdown",
   "metadata": {},
   "source": [
    "### Day 09\n",
    "#### part A"
   ]
  },
  {
   "cell_type": "code",
   "execution_count": 1,
   "metadata": {},
   "outputs": [],
   "source": [
    "import numpy as np"
   ]
  },
  {
   "cell_type": "code",
   "execution_count": 2,
   "metadata": {},
   "outputs": [],
   "source": [
    "infile=\"09a_input.txt\""
   ]
  },
  {
   "cell_type": "code",
   "execution_count": 3,
   "metadata": {},
   "outputs": [],
   "source": [
    "with open(infile) as f:\n",
    "    text=f.read()"
   ]
  },
  {
   "cell_type": "code",
   "execution_count": 8,
   "metadata": {},
   "outputs": [
    {
     "name": "stdout",
     "output_type": "stream",
     "text": [
      "First 40 values: [33 12 43  4 19 48 21 13 29 34 20 24 25 40 28 31 38  2 50 11 44 49 42 16\n",
      " 41 46 54 35  6 15  8 47 10 22 17 60 19 12 13 14]\n"
     ]
    }
   ],
   "source": [
    "vals=text.replace(\"\\n\",\" \")\n",
    "vals=np.fromstring(vals,dtype=\"int\",sep=\" \")\n",
    "print(\"First 40 values:\",vals[:40])"
   ]
  },
  {
   "cell_type": "code",
   "execution_count": 32,
   "metadata": {},
   "outputs": [
    {
     "data": {
      "text/plain": [
       "1000"
      ]
     },
     "execution_count": 32,
     "metadata": {},
     "output_type": "execute_result"
    }
   ],
   "source": [
    "len(vals)"
   ]
  },
  {
   "cell_type": "code",
   "execution_count": 38,
   "metadata": {},
   "outputs": [
    {
     "name": "stdout",
     "output_type": "stream",
     "text": [
      "610 530627549\n"
     ]
    }
   ],
   "source": [
    "# check for each value if it is the sum of 2 of the previous 25\n",
    "for idx in range(26,len(vals)):\n",
    "    subset=vals[idx-25:idx] # previous 25 values\n",
    "    sums=subset.reshape(1,-1)+subset.reshape(-1,1) # all possible sums as matrix (25x25)\n",
    "    np.fill_diagonal(sums,-1) # exclude the diagonal as hit by setting the vals to -1\n",
    "    is_valid=np.any(sums==vals[idx])\n",
    "    \n",
    "    if not is_valid:\n",
    "        print(idx, vals[idx])\n",
    "        break"
   ]
  },
  {
   "cell_type": "markdown",
   "metadata": {},
   "source": [
    "#### part B"
   ]
  },
  {
   "cell_type": "code",
   "execution_count": 40,
   "metadata": {},
   "outputs": [],
   "source": [
    "target=530627549"
   ]
  },
  {
   "cell_type": "code",
   "execution_count": 44,
   "metadata": {},
   "outputs": [
    {
     "name": "stdout",
     "output_type": "stream",
     "text": [
      "Found values: start & end index: 497 513\n"
     ]
    }
   ],
   "source": [
    "# try all possible sums\n",
    "success=False\n",
    "for idx in range(len(vals)):\n",
    "    summed=vals[idx]\n",
    "    for idx2 in range(idx+1,len(vals)):\n",
    "        summed+=vals[idx2]\n",
    "        if summed>target:\n",
    "            break # try next start value\n",
    "        if summed==target:\n",
    "            success=True\n",
    "            break\n",
    "    if success:\n",
    "        print(\"Found values: start & end index:\",idx,idx2)\n",
    "        break\n",
    "            \n"
   ]
  },
  {
   "cell_type": "code",
   "execution_count": 47,
   "metadata": {},
   "outputs": [
    {
     "data": {
      "text/plain": [
       "77730285"
      ]
     },
     "execution_count": 47,
     "metadata": {},
     "output_type": "execute_result"
    }
   ],
   "source": [
    "#final result\n",
    "sub=vals[idx:idx2+1]\n",
    "np.min(sub)+np.max(sub)"
   ]
  },
  {
   "cell_type": "code",
   "execution_count": null,
   "metadata": {},
   "outputs": [],
   "source": []
  }
 ],
 "metadata": {
  "kernelspec": {
   "display_name": "Python 3",
   "language": "python",
   "name": "python3"
  },
  "language_info": {
   "codemirror_mode": {
    "name": "ipython",
    "version": 3
   },
   "file_extension": ".py",
   "mimetype": "text/x-python",
   "name": "python",
   "nbconvert_exporter": "python",
   "pygments_lexer": "ipython3",
   "version": "3.7.5"
  }
 },
 "nbformat": 4,
 "nbformat_minor": 2
}
