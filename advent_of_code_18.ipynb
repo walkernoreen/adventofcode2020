{
 "cells": [
  {
   "cell_type": "markdown",
   "metadata": {},
   "source": [
    "### Day 18\n",
    "#### part A"
   ]
  },
  {
   "cell_type": "code",
   "execution_count": 1,
   "metadata": {},
   "outputs": [],
   "source": [
    "import numpy as np\n",
    "import re"
   ]
  },
  {
   "cell_type": "code",
   "execution_count": 2,
   "metadata": {},
   "outputs": [],
   "source": [
    "infile=\"18a_input.txt\""
   ]
  },
  {
   "cell_type": "code",
   "execution_count": 3,
   "metadata": {},
   "outputs": [],
   "source": [
    "with open(infile) as f:\n",
    "    lines=f.readlines()"
   ]
  },
  {
   "cell_type": "code",
   "execution_count": 4,
   "metadata": {},
   "outputs": [
    {
     "data": {
      "text/plain": [
       "['(3*(4*8)*5*7*3)+8', '4*(6*4*6)+8+4']"
      ]
     },
     "execution_count": 4,
     "metadata": {},
     "output_type": "execute_result"
    }
   ],
   "source": [
    "lines=[line.rstrip(\"\\n\") for line in lines]\n",
    "lines=[line.replace(\" \",\"\") for line in lines]\n",
    "lines[:2]"
   ]
  },
  {
   "cell_type": "code",
   "execution_count": 5,
   "metadata": {},
   "outputs": [],
   "source": [
    "def eval_inner(expr):\n",
    "    \"\"\"Evaluates one inner math expression = without brackets. Returns result as string\n",
    "    \"\"\"\n",
    "    # evaluate operation by operation\n",
    "    match=re.search(r\"\\d+[+*]\\d+\",expr)\n",
    "    while match is not None:\n",
    "        res=str(eval(match.group()))\n",
    "        span=match.span()\n",
    "        expr=expr[0:span[0]]+res+expr[span[1]:] # replace in string\n",
    "   \n",
    "        match=re.search(r\"\\d+[+*]\\d+\",expr)\n",
    "    \n",
    "    return expr\n",
    "    "
   ]
  },
  {
   "cell_type": "code",
   "execution_count": 6,
   "metadata": {},
   "outputs": [],
   "source": [
    "def eval_line(line, partB=False):\n",
    "    \"\"\"Evals full line. Searches for inner brackets and then evaluates the inner expression and replaces the result in line\n",
    "    \"\"\"\n",
    "    pattern=r\"\\([\\d*+]+\\)\" # brackets with digits,+,* in between\n",
    "\n",
    "    match=re.search(pattern,line)\n",
    "    while match is not None:\n",
    "        span=match.span()\n",
    "        string=match.group()\n",
    "        string=string.replace(\"(\",\"\")\n",
    "        string=string.replace(\")\",\"\") # '4*8+5'\n",
    "        \n",
    "        if partB:\n",
    "            res=eval_inner_B(string)\n",
    "        else:\n",
    "            res=eval_inner(string)\n",
    "        \n",
    "        #replace in original string\n",
    "        line=line[0:span[0]]+res+line[span[1]:]\n",
    "        #print(span,res)\n",
    "        #print(line)\n",
    "         \n",
    "        match=re.search(pattern,line)\n",
    "       \n",
    "    # outermost evaluation\n",
    "    if partB:\n",
    "        out=eval_inner_B(line)\n",
    "    else:\n",
    "        out=eval_inner(line)\n",
    "\n",
    "    return int(out)"
   ]
  },
  {
   "cell_type": "code",
   "execution_count": 7,
   "metadata": {},
   "outputs": [],
   "source": [
    "results=[]\n",
    "for line in lines:\n",
    "    results.append(eval_line(line))"
   ]
  },
  {
   "cell_type": "code",
   "execution_count": 8,
   "metadata": {},
   "outputs": [
    {
     "data": {
      "text/plain": [
       "1402255785165"
      ]
     },
     "execution_count": 8,
     "metadata": {},
     "output_type": "execute_result"
    }
   ],
   "source": [
    "sum(results)"
   ]
  },
  {
   "cell_type": "markdown",
   "metadata": {},
   "source": [
    "#### part B"
   ]
  },
  {
   "cell_type": "code",
   "execution_count": 9,
   "metadata": {},
   "outputs": [],
   "source": [
    "def eval_inner_B(expr):\n",
    "    \"\"\"Evaluates one inner math expression = without brackets. Returns result as string.\n",
    "    + precedes *\n",
    "    \"\"\"\n",
    "    # evaluate +'s\n",
    "    match=re.search(r\"\\d+[+]\\d+\",expr)\n",
    "    while match is not None:\n",
    "        res=str(eval(match.group()))\n",
    "        span=match.span()\n",
    "        expr=expr[0:span[0]]+res+expr[span[1]:] # replace in string\n",
    "   \n",
    "        match=re.search(r\"\\d+[+]\\d+\",expr)\n",
    "    \n",
    "    # evaluate *'s'\n",
    "    match=re.search(r\"\\d+[*]\\d+\",expr)\n",
    "    while match is not None:\n",
    "        res=str(eval(match.group()))\n",
    "        span=match.span()\n",
    "        expr=expr[0:span[0]]+res+expr[span[1]:] # replace in string\n",
    "   \n",
    "        match=re.search(r\"\\d+[*]\\d+\",expr)\n",
    "    \n",
    "    return expr\n",
    "    "
   ]
  },
  {
   "cell_type": "code",
   "execution_count": 10,
   "metadata": {},
   "outputs": [],
   "source": [
    "results=[]\n",
    "for line in lines:\n",
    "    results.append(eval_line(line, partB=True))"
   ]
  },
  {
   "cell_type": "code",
   "execution_count": 11,
   "metadata": {},
   "outputs": [
    {
     "data": {
      "text/plain": [
       "119224703255966"
      ]
     },
     "execution_count": 11,
     "metadata": {},
     "output_type": "execute_result"
    }
   ],
   "source": [
    "# final results\n",
    "sum(results)"
   ]
  },
  {
   "cell_type": "code",
   "execution_count": null,
   "metadata": {},
   "outputs": [],
   "source": []
  }
 ],
 "metadata": {
  "kernelspec": {
   "display_name": "Python 3",
   "language": "python",
   "name": "python3"
  },
  "language_info": {
   "codemirror_mode": {
    "name": "ipython",
    "version": 3
   },
   "file_extension": ".py",
   "mimetype": "text/x-python",
   "name": "python",
   "nbconvert_exporter": "python",
   "pygments_lexer": "ipython3",
   "version": "3.7.5"
  }
 },
 "nbformat": 4,
 "nbformat_minor": 2
}
