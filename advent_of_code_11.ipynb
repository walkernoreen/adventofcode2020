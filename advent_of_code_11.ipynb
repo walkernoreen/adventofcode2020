{
 "cells": [
  {
   "cell_type": "markdown",
   "metadata": {},
   "source": [
    "### Day 11\n",
    "#### part A"
   ]
  },
  {
   "cell_type": "code",
   "execution_count": 37,
   "metadata": {},
   "outputs": [],
   "source": [
    "import numpy as np"
   ]
  },
  {
   "cell_type": "code",
   "execution_count": 38,
   "metadata": {},
   "outputs": [],
   "source": [
    "infile=\"11a_input.txt\""
   ]
  },
  {
   "cell_type": "code",
   "execution_count": 39,
   "metadata": {},
   "outputs": [],
   "source": [
    "with open(infile) as f:\n",
    "    lines=f.readlines()"
   ]
  },
  {
   "cell_type": "code",
   "execution_count": 40,
   "metadata": {},
   "outputs": [],
   "source": [
    "def to_int(letter):\n",
    "    if letter==\".\": return -1\n",
    "    elif letter==\"L\": return 0\n",
    "    elif letter==\"#\": return 1\n",
    "    else: return None"
   ]
  },
  {
   "cell_type": "code",
   "execution_count": 41,
   "metadata": {},
   "outputs": [],
   "source": [
    "# str to int: -1: floor, 0: empty, 1: occupied\n",
    "linesint=[]\n",
    "for line in lines:\n",
    "    line=line.replace(\"\\n\",\"\")\n",
    "    line=[to_int(c) for c in line]\n",
    "    linesint.append(line)\n",
    "    \n",
    "#print(linesint[0])"
   ]
  },
  {
   "cell_type": "code",
   "execution_count": 42,
   "metadata": {},
   "outputs": [
    {
     "data": {
      "text/plain": [
       "array([[ 0,  0,  0, ...,  0,  0,  0],\n",
       "       [ 0,  0,  0, ...,  0, -1,  0],\n",
       "       [ 0,  0,  0, ...,  0,  0,  0],\n",
       "       ...,\n",
       "       [-1,  0,  0, ..., -1,  0,  0],\n",
       "       [ 0,  0,  0, ...,  0,  0,  0],\n",
       "       [ 0,  0,  0, ...,  0,  0,  0]])"
      ]
     },
     "execution_count": 42,
     "metadata": {},
     "output_type": "execute_result"
    }
   ],
   "source": [
    "# to array\n",
    "seats=np.array(linesint)\n",
    "seats"
   ]
  },
  {
   "cell_type": "code",
   "execution_count": 43,
   "metadata": {},
   "outputs": [],
   "source": [
    "def find_neighbors(rctr,cctr, seats):\n",
    "    \"\"\"rctr,cctr: seat position\n",
    "    seats: 2D numpy array with -1(floor),0(empty),1(occupied)\n",
    "    returns: row and col positions of neighbors (empty or occupied seats)\n",
    "    \"\"\"\n",
    "    rows_cur_neigh=[]\n",
    "    cols_cur_neigh=[]\n",
    "    for r in range(rctr-1,rctr+2):\n",
    "        for c in range(cctr-1,cctr+2):\n",
    "            if r==rctr and c==cctr: \n",
    "                continue\n",
    "            if (0<=r<seats.shape[0]) and (0<=c<seats.shape[1]) and seats[r,c]>=0:\n",
    "                rows_cur_neigh.append(r)\n",
    "                cols_cur_neigh.append(c)\n",
    "    return rows_cur_neigh, cols_cur_neigh"
   ]
  },
  {
   "cell_type": "code",
   "execution_count": 44,
   "metadata": {},
   "outputs": [
    {
     "data": {
      "text/plain": [
       "[12, 12, 12, 13, 14, 14, 14]"
      ]
     },
     "metadata": {},
     "output_type": "display_data"
    },
    {
     "data": {
      "text/plain": [
       "[13, 14, 15, 15, 13, 14, 15]"
      ]
     },
     "metadata": {},
     "output_type": "display_data"
    }
   ],
   "source": [
    "# lookup table of neighbors for each seat\n",
    "rows_chair, cols_chair=np.nonzero(seats==0) # seat positions\n",
    "\n",
    "rows_neigh=[]\n",
    "cols_neigh=[]\n",
    "\n",
    "for rctr,cctr in zip(rows_chair,cols_chair):\n",
    "    rn,cn=find_neighbors(rctr,cctr,seats)\n",
    "    rows_neigh.append(rn)\n",
    "    cols_neigh.append(cn)\n",
    "\n",
    "    #example\n",
    "display(rows_neigh[1000])\n",
    "display(cols_neigh[1000])"
   ]
  },
  {
   "cell_type": "code",
   "execution_count": 24,
   "metadata": {},
   "outputs": [],
   "source": [
    "def one_round(seats,rows_chair,cols_chair,rows_neigh,cols_neigh,occ_limit=4):\n",
    "    updated=seats.copy()\n",
    "    for idx,(r,c) in enumerate(zip(rows_chair,cols_chair)):\n",
    "        occ=np.sum(seats[rows_neigh[idx],cols_neigh[idx]])\n",
    "        if occ==0 and seats[r,c]==0:\n",
    "            updated[r,c]=1\n",
    "        elif occ>=occ_limit and seats[r,c]==1:\n",
    "            updated[r,c]=0\n",
    "    return updated\n"
   ]
  },
  {
   "cell_type": "code",
   "execution_count": null,
   "metadata": {},
   "outputs": [],
   "source": [
    "#%load_ext line_profiler"
   ]
  },
  {
   "cell_type": "code",
   "execution_count": 11,
   "metadata": {},
   "outputs": [],
   "source": [
    "# %lprun -f one_round one_round(seats,rows_chair,cols_chair,rows_neigh,cols_neigh)"
   ]
  },
  {
   "cell_type": "code",
   "execution_count": 9,
   "metadata": {},
   "outputs": [],
   "source": [
    "seats_backup=seats.copy()"
   ]
  },
  {
   "cell_type": "code",
   "execution_count": 22,
   "metadata": {},
   "outputs": [
    {
     "name": "stdout",
     "output_type": "stream",
     "text": [
      "iteration 0\n",
      "iteration 10\n",
      "iteration 20\n",
      "iteration 30\n",
      "iteration 40\n",
      "iteration 50\n",
      "iteration 60\n",
      "iteration 70\n",
      "iteration 80\n",
      "iteration 90\n",
      "stable condition reached\n"
     ]
    }
   ],
   "source": [
    "# play game until stable condition is reached\n",
    "idx=0\n",
    "seats=seats_backup.copy()\n",
    "while True:\n",
    "    if idx%10==0:\n",
    "        print(\"iteration\",idx)\n",
    "    seats_new=one_round(seats,rows_chair,cols_chair,rows_neigh,cols_neigh)\n",
    "    if np.sum(np.abs(seats_new)-np.abs(seats))==0:\n",
    "        print(\"stable condition reached\")\n",
    "        break\n",
    "    if idx>2000:\n",
    "        print(\"2000 interruption: giving up\")\n",
    "        break\n",
    "    seats=seats_new\n",
    "    idx+=1"
   ]
  },
  {
   "cell_type": "code",
   "execution_count": 23,
   "metadata": {
    "scrolled": true
   },
   "outputs": [
    {
     "data": {
      "text/plain": [
       "2238"
      ]
     },
     "execution_count": 23,
     "metadata": {},
     "output_type": "execute_result"
    }
   ],
   "source": [
    "# nr of occupied seats\n",
    "np.count_nonzero(seats==1)"
   ]
  },
  {
   "cell_type": "markdown",
   "metadata": {},
   "source": [
    "#### part B"
   ]
  },
  {
   "cell_type": "code",
   "execution_count": 64,
   "metadata": {},
   "outputs": [],
   "source": [
    "def find_neighbors_B(rctr,cctr, seats):\n",
    "    \"\"\"Similar to find_neighbors but with neighbor definition as in part B\n",
    "    rctr,cctr: seat position\n",
    "    seats: 2D numpy array with -1(floor),0(empty),1(occupied)\n",
    "    returns: row and col positions of neighbors (empty or occupied seats)\n",
    "    \"\"\"\n",
    "    rows_cur_neigh=[]\n",
    "    cols_cur_neigh=[]\n",
    "    # loop over all possible directions\n",
    "    for dr in [-1,0,1]:\n",
    "        for dc in [-1,0,1]:\n",
    "            if dr==0 and dc==0: \n",
    "                continue\n",
    "            # all possible distances along a specific direction\n",
    "            for steps in range(1,max(seats.shape[0],seats.shape[1])):\n",
    "                r=rctr+dr*steps\n",
    "                c=cctr+dc*steps\n",
    "                # reached border\n",
    "                if (r<0) or (r>=seats.shape[0]) or (c<0) or (c>=seats.shape[1]):\n",
    "                    break\n",
    "                # check if position is a chair\n",
    "                if seats[r,c]>=0:\n",
    "                    rows_cur_neigh.append(r)\n",
    "                    cols_cur_neigh.append(c)\n",
    "                    break\n",
    "    return rows_cur_neigh, cols_cur_neigh"
   ]
  },
  {
   "cell_type": "code",
   "execution_count": 65,
   "metadata": {},
   "outputs": [
    {
     "data": {
      "text/plain": [
       "[12, 12, 12, 13, 13, 14, 14, 14]"
      ]
     },
     "metadata": {},
     "output_type": "display_data"
    },
    {
     "data": {
      "text/plain": [
       "[13, 14, 15, 12, 15, 13, 14, 15]"
      ]
     },
     "metadata": {},
     "output_type": "display_data"
    }
   ],
   "source": [
    "# lookup table with neighbors defined as in B\n",
    "rows_neigh_B=[]\n",
    "cols_neigh_B=[]\n",
    "\n",
    "for rctr,cctr in zip(rows_chair,cols_chair):\n",
    "    rn,cn=find_neighbors_B(rctr,cctr,seats)\n",
    "    rows_neigh_B.append(rn)\n",
    "    cols_neigh_B.append(cn)\n",
    "\n",
    "#example\n",
    "display(rows_neigh_B[1000])\n",
    "display(cols_neigh_B[1000])"
   ]
  },
  {
   "cell_type": "code",
   "execution_count": 66,
   "metadata": {},
   "outputs": [
    {
     "name": "stdout",
     "output_type": "stream",
     "text": [
      "iteration 0\n",
      "iteration 10\n",
      "iteration 20\n",
      "iteration 30\n",
      "iteration 40\n",
      "iteration 50\n",
      "iteration 60\n",
      "iteration 70\n",
      "iteration 80\n",
      "stable condition reached\n"
     ]
    }
   ],
   "source": [
    "# play game until stable condition is reached\n",
    "idx=0\n",
    "seats=seats_backup.copy()\n",
    "while True:\n",
    "    if idx%10==0:\n",
    "        print(\"iteration\",idx)\n",
    "    seats_new=one_round(seats,rows_chair,cols_chair,rows_neigh_B,cols_neigh_B,occ_limit=5) # new params\n",
    "    if np.sum(np.abs(seats_new)-np.abs(seats))==0:\n",
    "        print(\"stable condition reached\")\n",
    "        break\n",
    "    if idx>2000:\n",
    "        print(\"2000 interruption: giving up\")\n",
    "        break\n",
    "    seats=seats_new\n",
    "    idx+=1"
   ]
  },
  {
   "cell_type": "code",
   "execution_count": 68,
   "metadata": {},
   "outputs": [
    {
     "data": {
      "text/plain": [
       "2013"
      ]
     },
     "execution_count": 68,
     "metadata": {},
     "output_type": "execute_result"
    }
   ],
   "source": [
    "# nr of occupied seats\n",
    "np.count_nonzero(seats==1)"
   ]
  },
  {
   "cell_type": "code",
   "execution_count": null,
   "metadata": {},
   "outputs": [],
   "source": []
  },
  {
   "cell_type": "code",
   "execution_count": null,
   "metadata": {},
   "outputs": [],
   "source": []
  }
 ],
 "metadata": {
  "kernelspec": {
   "display_name": "Python 3",
   "language": "python",
   "name": "python3"
  },
  "language_info": {
   "codemirror_mode": {
    "name": "ipython",
    "version": 3
   },
   "file_extension": ".py",
   "mimetype": "text/x-python",
   "name": "python",
   "nbconvert_exporter": "python",
   "pygments_lexer": "ipython3",
   "version": "3.7.5"
  }
 },
 "nbformat": 4,
 "nbformat_minor": 2
}
